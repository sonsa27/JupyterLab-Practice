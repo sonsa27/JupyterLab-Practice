{
 "cells": [
  {
   "cell_type": "code",
   "execution_count": 1,
   "id": "d458970b-14de-4774-8008-1a7b293fc71f",
   "metadata": {},
   "outputs": [],
   "source": [
    "import numpy as np\n",
    "import pandas as pd\n",
    "import matplotlib.pyplot as plt\n",
    "import seaborn as sns"
   ]
  },
  {
   "cell_type": "code",
   "execution_count": 2,
   "id": "030c6dcf-a50e-46d0-b87b-ec275cf2c4bb",
   "metadata": {},
   "outputs": [],
   "source": [
    "from sklearn.datasets import load_boston"
   ]
  },
  {
   "cell_type": "code",
   "execution_count": 3,
   "id": "46b4e341-383c-4296-bc8d-0fc63f838389",
   "metadata": {},
   "outputs": [],
   "source": [
    "pd.set_option(\"display.max_rows\",10)"
   ]
  },
  {
   "cell_type": "code",
   "execution_count": 4,
   "id": "5b48265d-d80b-4688-be7f-f6ea920175b6",
   "metadata": {},
   "outputs": [
    {
     "name": "stderr",
     "output_type": "stream",
     "text": [
      "/Users/songsa/opt/anaconda3/lib/python3.9/site-packages/sklearn/utils/deprecation.py:87: FutureWarning: Function load_boston is deprecated; `load_boston` is deprecated in 1.0 and will be removed in 1.2.\n",
      "\n",
      "    The Boston housing prices dataset has an ethical problem. You can refer to\n",
      "    the documentation of this function for further details.\n",
      "\n",
      "    The scikit-learn maintainers therefore strongly discourage the use of this\n",
      "    dataset unless the purpose of the code is to study and educate about\n",
      "    ethical issues in data science and machine learning.\n",
      "\n",
      "    In this special case, you can fetch the dataset from the original\n",
      "    source::\n",
      "\n",
      "        import pandas as pd\n",
      "        import numpy as np\n",
      "\n",
      "\n",
      "        data_url = \"http://lib.stat.cmu.edu/datasets/boston\"\n",
      "        raw_df = pd.read_csv(data_url, sep=\"\\s+\", skiprows=22, header=None)\n",
      "        data = np.hstack([raw_df.values[::2, :], raw_df.values[1::2, :2]])\n",
      "        target = raw_df.values[1::2, 2]\n",
      "\n",
      "    Alternative datasets include the California housing dataset (i.e.\n",
      "    :func:`~sklearn.datasets.fetch_california_housing`) and the Ames housing\n",
      "    dataset. You can load the datasets as follows::\n",
      "\n",
      "        from sklearn.datasets import fetch_california_housing\n",
      "        housing = fetch_california_housing()\n",
      "\n",
      "    for the California housing dataset and::\n",
      "\n",
      "        from sklearn.datasets import fetch_openml\n",
      "        housing = fetch_openml(name=\"house_prices\", as_frame=True)\n",
      "\n",
      "    for the Ames housing dataset.\n",
      "    \n",
      "  warnings.warn(msg, category=FutureWarning)\n"
     ]
    }
   ],
   "source": [
    "dataset = load_boston()"
   ]
  },
  {
   "cell_type": "code",
   "execution_count": 5,
   "id": "be892cd9-e1a0-4d50-aff0-78e23c2e72ef",
   "metadata": {},
   "outputs": [],
   "source": [
    "# dataset"
   ]
  },
  {
   "cell_type": "code",
   "execution_count": 6,
   "id": "3db30b3b-51b2-4709-bfda-9113d8136fca",
   "metadata": {},
   "outputs": [],
   "source": [
    "x,t = dataset.data,dataset.target\n",
    "columns = dataset.feature_names"
   ]
  },
  {
   "cell_type": "code",
   "execution_count": 7,
   "id": "d012ec40-eef4-426e-8ef5-ec5e59ca9b7a",
   "metadata": {},
   "outputs": [
    {
     "data": {
      "text/plain": [
       "(numpy.ndarray, (506, 13))"
      ]
     },
     "execution_count": 7,
     "metadata": {},
     "output_type": "execute_result"
    }
   ],
   "source": [
    "type(x),x.shape"
   ]
  },
  {
   "cell_type": "code",
   "execution_count": 8,
   "id": "5bf2655c-2b90-40d9-a6b5-79ba7e587e71",
   "metadata": {},
   "outputs": [
    {
     "data": {
      "text/plain": [
       "(numpy.ndarray, (506,))"
      ]
     },
     "execution_count": 8,
     "metadata": {},
     "output_type": "execute_result"
    }
   ],
   "source": [
    "type(t),t.shape"
   ]
  },
  {
   "cell_type": "code",
   "execution_count": 9,
   "id": "e4ff565f-668a-41f8-bdc0-db98696c4398",
   "metadata": {},
   "outputs": [
    {
     "data": {
      "text/plain": [
       "array([6.320e-03, 1.800e+01, 2.310e+00, 0.000e+00, 5.380e-01, 6.575e+00,\n",
       "       6.520e+01, 4.090e+00, 1.000e+00, 2.960e+02, 1.530e+01, 3.969e+02,\n",
       "       4.980e+00])"
      ]
     },
     "execution_count": 9,
     "metadata": {},
     "output_type": "execute_result"
    }
   ],
   "source": [
    "x[0]"
   ]
  },
  {
   "cell_type": "code",
   "execution_count": 10,
   "id": "af73e854-f401-4880-a4d2-71f6a09976bc",
   "metadata": {},
   "outputs": [
    {
     "data": {
      "text/plain": [
       "24.0"
      ]
     },
     "execution_count": 10,
     "metadata": {},
     "output_type": "execute_result"
    }
   ],
   "source": [
    "t[0]"
   ]
  },
  {
   "cell_type": "code",
   "execution_count": 11,
   "id": "5cacc64d-489e-42de-9a30-d34b41661376",
   "metadata": {},
   "outputs": [
    {
     "data": {
      "text/plain": [
       "array(['CRIM', 'ZN', 'INDUS', 'CHAS', 'NOX', 'RM', 'AGE', 'DIS', 'RAD',\n",
       "       'TAX', 'PTRATIO', 'B', 'LSTAT'], dtype='<U7')"
      ]
     },
     "execution_count": 11,
     "metadata": {},
     "output_type": "execute_result"
    }
   ],
   "source": [
    "columns"
   ]
  },
  {
   "cell_type": "code",
   "execution_count": 12,
   "id": "9e0c0d2a-7c86-4705-8517-e29be83a52ec",
   "metadata": {},
   "outputs": [
    {
     "data": {
      "text/html": [
       "<div>\n",
       "<style scoped>\n",
       "    .dataframe tbody tr th:only-of-type {\n",
       "        vertical-align: middle;\n",
       "    }\n",
       "\n",
       "    .dataframe tbody tr th {\n",
       "        vertical-align: top;\n",
       "    }\n",
       "\n",
       "    .dataframe thead th {\n",
       "        text-align: right;\n",
       "    }\n",
       "</style>\n",
       "<table border=\"1\" class=\"dataframe\">\n",
       "  <thead>\n",
       "    <tr style=\"text-align: right;\">\n",
       "      <th></th>\n",
       "      <th>CRIM</th>\n",
       "      <th>ZN</th>\n",
       "      <th>INDUS</th>\n",
       "      <th>CHAS</th>\n",
       "      <th>NOX</th>\n",
       "      <th>RM</th>\n",
       "      <th>AGE</th>\n",
       "      <th>DIS</th>\n",
       "      <th>RAD</th>\n",
       "      <th>TAX</th>\n",
       "      <th>PTRATIO</th>\n",
       "      <th>B</th>\n",
       "      <th>LSTAT</th>\n",
       "    </tr>\n",
       "  </thead>\n",
       "  <tbody>\n",
       "    <tr>\n",
       "      <th>0</th>\n",
       "      <td>0.00632</td>\n",
       "      <td>18.0</td>\n",
       "      <td>2.31</td>\n",
       "      <td>0.0</td>\n",
       "      <td>0.538</td>\n",
       "      <td>6.575</td>\n",
       "      <td>65.2</td>\n",
       "      <td>4.0900</td>\n",
       "      <td>1.0</td>\n",
       "      <td>296.0</td>\n",
       "      <td>15.3</td>\n",
       "      <td>396.90</td>\n",
       "      <td>4.98</td>\n",
       "    </tr>\n",
       "    <tr>\n",
       "      <th>1</th>\n",
       "      <td>0.02731</td>\n",
       "      <td>0.0</td>\n",
       "      <td>7.07</td>\n",
       "      <td>0.0</td>\n",
       "      <td>0.469</td>\n",
       "      <td>6.421</td>\n",
       "      <td>78.9</td>\n",
       "      <td>4.9671</td>\n",
       "      <td>2.0</td>\n",
       "      <td>242.0</td>\n",
       "      <td>17.8</td>\n",
       "      <td>396.90</td>\n",
       "      <td>9.14</td>\n",
       "    </tr>\n",
       "    <tr>\n",
       "      <th>2</th>\n",
       "      <td>0.02729</td>\n",
       "      <td>0.0</td>\n",
       "      <td>7.07</td>\n",
       "      <td>0.0</td>\n",
       "      <td>0.469</td>\n",
       "      <td>7.185</td>\n",
       "      <td>61.1</td>\n",
       "      <td>4.9671</td>\n",
       "      <td>2.0</td>\n",
       "      <td>242.0</td>\n",
       "      <td>17.8</td>\n",
       "      <td>392.83</td>\n",
       "      <td>4.03</td>\n",
       "    </tr>\n",
       "    <tr>\n",
       "      <th>3</th>\n",
       "      <td>0.03237</td>\n",
       "      <td>0.0</td>\n",
       "      <td>2.18</td>\n",
       "      <td>0.0</td>\n",
       "      <td>0.458</td>\n",
       "      <td>6.998</td>\n",
       "      <td>45.8</td>\n",
       "      <td>6.0622</td>\n",
       "      <td>3.0</td>\n",
       "      <td>222.0</td>\n",
       "      <td>18.7</td>\n",
       "      <td>394.63</td>\n",
       "      <td>2.94</td>\n",
       "    </tr>\n",
       "    <tr>\n",
       "      <th>4</th>\n",
       "      <td>0.06905</td>\n",
       "      <td>0.0</td>\n",
       "      <td>2.18</td>\n",
       "      <td>0.0</td>\n",
       "      <td>0.458</td>\n",
       "      <td>7.147</td>\n",
       "      <td>54.2</td>\n",
       "      <td>6.0622</td>\n",
       "      <td>3.0</td>\n",
       "      <td>222.0</td>\n",
       "      <td>18.7</td>\n",
       "      <td>396.90</td>\n",
       "      <td>5.33</td>\n",
       "    </tr>\n",
       "  </tbody>\n",
       "</table>\n",
       "</div>"
      ],
      "text/plain": [
       "      CRIM    ZN  INDUS  CHAS    NOX     RM   AGE     DIS  RAD    TAX  \\\n",
       "0  0.00632  18.0   2.31   0.0  0.538  6.575  65.2  4.0900  1.0  296.0   \n",
       "1  0.02731   0.0   7.07   0.0  0.469  6.421  78.9  4.9671  2.0  242.0   \n",
       "2  0.02729   0.0   7.07   0.0  0.469  7.185  61.1  4.9671  2.0  242.0   \n",
       "3  0.03237   0.0   2.18   0.0  0.458  6.998  45.8  6.0622  3.0  222.0   \n",
       "4  0.06905   0.0   2.18   0.0  0.458  7.147  54.2  6.0622  3.0  222.0   \n",
       "\n",
       "   PTRATIO       B  LSTAT  \n",
       "0     15.3  396.90   4.98  \n",
       "1     17.8  396.90   9.14  \n",
       "2     17.8  392.83   4.03  \n",
       "3     18.7  394.63   2.94  \n",
       "4     18.7  396.90   5.33  "
      ]
     },
     "execution_count": 12,
     "metadata": {},
     "output_type": "execute_result"
    }
   ],
   "source": [
    "df = pd.DataFrame(x,columns=columns)\n",
    "df.head()"
   ]
  },
  {
   "cell_type": "code",
   "execution_count": 13,
   "id": "96929020-a40e-43b1-ba7c-9d106c52c5e9",
   "metadata": {},
   "outputs": [],
   "source": [
    "df[\"Target\"] = t   #ターゲットカラムを入れてあげる"
   ]
  },
  {
   "cell_type": "code",
   "execution_count": 14,
   "id": "501da42b-674c-4cf9-a56e-e37fcc0010f4",
   "metadata": {},
   "outputs": [
    {
     "data": {
      "text/html": [
       "<div>\n",
       "<style scoped>\n",
       "    .dataframe tbody tr th:only-of-type {\n",
       "        vertical-align: middle;\n",
       "    }\n",
       "\n",
       "    .dataframe tbody tr th {\n",
       "        vertical-align: top;\n",
       "    }\n",
       "\n",
       "    .dataframe thead th {\n",
       "        text-align: right;\n",
       "    }\n",
       "</style>\n",
       "<table border=\"1\" class=\"dataframe\">\n",
       "  <thead>\n",
       "    <tr style=\"text-align: right;\">\n",
       "      <th></th>\n",
       "      <th>CRIM</th>\n",
       "      <th>ZN</th>\n",
       "      <th>INDUS</th>\n",
       "      <th>CHAS</th>\n",
       "      <th>NOX</th>\n",
       "      <th>RM</th>\n",
       "      <th>AGE</th>\n",
       "      <th>DIS</th>\n",
       "      <th>RAD</th>\n",
       "      <th>TAX</th>\n",
       "      <th>PTRATIO</th>\n",
       "      <th>B</th>\n",
       "      <th>LSTAT</th>\n",
       "      <th>Target</th>\n",
       "    </tr>\n",
       "  </thead>\n",
       "  <tbody>\n",
       "    <tr>\n",
       "      <th>0</th>\n",
       "      <td>0.00632</td>\n",
       "      <td>18.0</td>\n",
       "      <td>2.31</td>\n",
       "      <td>0.0</td>\n",
       "      <td>0.538</td>\n",
       "      <td>6.575</td>\n",
       "      <td>65.2</td>\n",
       "      <td>4.0900</td>\n",
       "      <td>1.0</td>\n",
       "      <td>296.0</td>\n",
       "      <td>15.3</td>\n",
       "      <td>396.90</td>\n",
       "      <td>4.98</td>\n",
       "      <td>24.0</td>\n",
       "    </tr>\n",
       "    <tr>\n",
       "      <th>1</th>\n",
       "      <td>0.02731</td>\n",
       "      <td>0.0</td>\n",
       "      <td>7.07</td>\n",
       "      <td>0.0</td>\n",
       "      <td>0.469</td>\n",
       "      <td>6.421</td>\n",
       "      <td>78.9</td>\n",
       "      <td>4.9671</td>\n",
       "      <td>2.0</td>\n",
       "      <td>242.0</td>\n",
       "      <td>17.8</td>\n",
       "      <td>396.90</td>\n",
       "      <td>9.14</td>\n",
       "      <td>21.6</td>\n",
       "    </tr>\n",
       "    <tr>\n",
       "      <th>2</th>\n",
       "      <td>0.02729</td>\n",
       "      <td>0.0</td>\n",
       "      <td>7.07</td>\n",
       "      <td>0.0</td>\n",
       "      <td>0.469</td>\n",
       "      <td>7.185</td>\n",
       "      <td>61.1</td>\n",
       "      <td>4.9671</td>\n",
       "      <td>2.0</td>\n",
       "      <td>242.0</td>\n",
       "      <td>17.8</td>\n",
       "      <td>392.83</td>\n",
       "      <td>4.03</td>\n",
       "      <td>34.7</td>\n",
       "    </tr>\n",
       "    <tr>\n",
       "      <th>3</th>\n",
       "      <td>0.03237</td>\n",
       "      <td>0.0</td>\n",
       "      <td>2.18</td>\n",
       "      <td>0.0</td>\n",
       "      <td>0.458</td>\n",
       "      <td>6.998</td>\n",
       "      <td>45.8</td>\n",
       "      <td>6.0622</td>\n",
       "      <td>3.0</td>\n",
       "      <td>222.0</td>\n",
       "      <td>18.7</td>\n",
       "      <td>394.63</td>\n",
       "      <td>2.94</td>\n",
       "      <td>33.4</td>\n",
       "    </tr>\n",
       "    <tr>\n",
       "      <th>4</th>\n",
       "      <td>0.06905</td>\n",
       "      <td>0.0</td>\n",
       "      <td>2.18</td>\n",
       "      <td>0.0</td>\n",
       "      <td>0.458</td>\n",
       "      <td>7.147</td>\n",
       "      <td>54.2</td>\n",
       "      <td>6.0622</td>\n",
       "      <td>3.0</td>\n",
       "      <td>222.0</td>\n",
       "      <td>18.7</td>\n",
       "      <td>396.90</td>\n",
       "      <td>5.33</td>\n",
       "      <td>36.2</td>\n",
       "    </tr>\n",
       "  </tbody>\n",
       "</table>\n",
       "</div>"
      ],
      "text/plain": [
       "      CRIM    ZN  INDUS  CHAS    NOX     RM   AGE     DIS  RAD    TAX  \\\n",
       "0  0.00632  18.0   2.31   0.0  0.538  6.575  65.2  4.0900  1.0  296.0   \n",
       "1  0.02731   0.0   7.07   0.0  0.469  6.421  78.9  4.9671  2.0  242.0   \n",
       "2  0.02729   0.0   7.07   0.0  0.469  7.185  61.1  4.9671  2.0  242.0   \n",
       "3  0.03237   0.0   2.18   0.0  0.458  6.998  45.8  6.0622  3.0  222.0   \n",
       "4  0.06905   0.0   2.18   0.0  0.458  7.147  54.2  6.0622  3.0  222.0   \n",
       "\n",
       "   PTRATIO       B  LSTAT  Target  \n",
       "0     15.3  396.90   4.98    24.0  \n",
       "1     17.8  396.90   9.14    21.6  \n",
       "2     17.8  392.83   4.03    34.7  \n",
       "3     18.7  394.63   2.94    33.4  \n",
       "4     18.7  396.90   5.33    36.2  "
      ]
     },
     "execution_count": 14,
     "metadata": {},
     "output_type": "execute_result"
    }
   ],
   "source": [
    "df.head()"
   ]
  },
  {
   "cell_type": "code",
   "execution_count": 15,
   "id": "45ad8c8d-85e1-4c37-84ea-5cef6b5f48ce",
   "metadata": {},
   "outputs": [],
   "source": [
    "t = df[\"Target\"].values"
   ]
  },
  {
   "cell_type": "code",
   "execution_count": 16,
   "id": "4aab26c3-db93-4679-8ea8-b8709fec0bb9",
   "metadata": {},
   "outputs": [],
   "source": [
    "x = df.drop(labels=[\"Target\"],axis=1)"
   ]
  },
  {
   "cell_type": "code",
   "execution_count": 17,
   "id": "9044b2ff-8764-413a-bc67-1dc443a6b941",
   "metadata": {},
   "outputs": [],
   "source": [
    "from sklearn.model_selection import train_test_split"
   ]
  },
  {
   "cell_type": "code",
   "execution_count": 18,
   "id": "737f6850-51a5-41af-b408-a22136274aa9",
   "metadata": {},
   "outputs": [],
   "source": [
    "x_train,x_test,t_train,t_test = train_test_split(x, t, test_size=0.3, random_state=0)\n",
    "#４つの値が返ってくるから変数を用意、train=学習用,test=テスト用　　　　　　　　　　　　　　　　　　  ↑テストデータを3割使う　                                             "
   ]
  },
  {
   "cell_type": "code",
   "execution_count": 19,
   "id": "9213274d-668b-445a-a4c4-bb7c5b4dffdc",
   "metadata": {},
   "outputs": [
    {
     "data": {
      "text/plain": [
       "354"
      ]
     },
     "execution_count": 19,
     "metadata": {},
     "output_type": "execute_result"
    }
   ],
   "source": [
    "len(x_train)  #上でテスト用を３割使う設定にしたから残りの７割が学習用に入ってくる"
   ]
  },
  {
   "cell_type": "code",
   "execution_count": 20,
   "id": "9a51f5f7-9986-4160-a261-f0e6a3badf25",
   "metadata": {},
   "outputs": [],
   "source": [
    "from sklearn.linear_model import LinearRegression"
   ]
  },
  {
   "cell_type": "code",
   "execution_count": 21,
   "id": "20d3dd95-2151-413a-ac60-92cb2cfedd57",
   "metadata": {},
   "outputs": [],
   "source": [
    "model = LinearRegression()"
   ]
  },
  {
   "cell_type": "code",
   "execution_count": 22,
   "id": "4c1ec7a4-2dea-4eef-bd83-fb845b23dbab",
   "metadata": {},
   "outputs": [
    {
     "data": {
      "text/plain": [
       "LinearRegression()"
      ]
     },
     "execution_count": 22,
     "metadata": {},
     "output_type": "execute_result"
    }
   ],
   "source": [
    "model"
   ]
  },
  {
   "cell_type": "code",
   "execution_count": 23,
   "id": "eca13fb9-adf4-485b-a191-592f287fa1a6",
   "metadata": {},
   "outputs": [
    {
     "data": {
      "text/plain": [
       "LinearRegression()"
      ]
     },
     "execution_count": 23,
     "metadata": {},
     "output_type": "execute_result"
    }
   ],
   "source": [
    "model.fit(x_train,t_train)"
   ]
  },
  {
   "cell_type": "code",
   "execution_count": 24,
   "id": "55a7d770-a0af-4077-9cae-4597134a533e",
   "metadata": {},
   "outputs": [
    {
     "data": {
      "text/plain": [
       "array([-1.21310401e-01,  4.44664254e-02,  1.13416945e-02,  2.51124642e+00,\n",
       "       -1.62312529e+01,  3.85906801e+00, -9.98516565e-03, -1.50026956e+00,\n",
       "        2.42143466e-01, -1.10716124e-02, -1.01775264e+00,  6.81446545e-03,\n",
       "       -4.86738066e-01])"
      ]
     },
     "execution_count": 24,
     "metadata": {},
     "output_type": "execute_result"
    }
   ],
   "source": [
    "model.coef_"
   ]
  },
  {
   "cell_type": "code",
   "execution_count": 25,
   "id": "715a226b-b931-4a28-b1ce-d1e08d4ec86e",
   "metadata": {},
   "outputs": [
    {
     "data": {
      "text/plain": [
       "<BarContainer object of 13 artists>"
      ]
     },
     "execution_count": 25,
     "metadata": {},
     "output_type": "execute_result"
    },
    {
     "data": {
      "image/png": "[encoded data removed]",
      "text/plain": [
       "<Figure size 800x500 with 1 Axes>"
      ]
     },
     "metadata": {},
     "output_type": "display_data"
    }
   ],
   "source": [
    "plt.figure(figsize=(8,5))\n",
    "plt.bar(x=columns,height = model.coef_)"
   ]
  },
  {
   "cell_type": "code",
   "execution_count": 26,
   "id": "3deaac99-bf67-48c9-b834-51be3b88da2b",
   "metadata": {},
   "outputs": [
    {
     "data": {
      "text/plain": [
       "37.93710774183228"
      ]
     },
     "execution_count": 26,
     "metadata": {},
     "output_type": "execute_result"
    }
   ],
   "source": [
    "model.intercept_"
   ]
  },
  {
   "cell_type": "code",
   "execution_count": 27,
   "id": "e60719af-b0fa-4095-882a-9206a7c95227",
   "metadata": {},
   "outputs": [
    {
     "name": "stdout",
     "output_type": "stream",
     "text": [
      "train score: 0.7645451026942549\n",
      "train score: 0.6733825506400195\n"
     ]
    }
   ],
   "source": [
    "print(f\"train score: {model.score(x_train, t_train)}\")\n",
    "print(f\"train score: {model.score(x_test, t_test)}\")"
   ]
  },
  {
   "cell_type": "code",
   "execution_count": 28,
   "id": "84caa544-b2d5-47d7-bbcb-3f4fb00585f6",
   "metadata": {},
   "outputs": [],
   "source": [
    "y = model.predict(x_test)"
   ]
  },
  {
   "cell_type": "code",
   "execution_count": 29,
   "id": "e2eafe8d-40cf-4f64-ac42-d985e5dc04d0",
   "metadata": {},
   "outputs": [
    {
     "data": {
      "text/plain": [
       "(152, 13)"
      ]
     },
     "execution_count": 29,
     "metadata": {},
     "output_type": "execute_result"
    }
   ],
   "source": [
    "x_test.shape"
   ]
  },
  {
   "cell_type": "code",
   "execution_count": 30,
   "id": "3fed14a0-2803-4464-9001-d6b389ea45fe",
   "metadata": {},
   "outputs": [
    {
     "name": "stdout",
     "output_type": "stream",
     "text": [
      "予測値: 23.75163164074817\n",
      "目標値: 50.0\n"
     ]
    }
   ],
   "source": [
    "print(f\"予測値: {y[1]}\")\n",
    "print(f\"目標値: {t_test[1]}\")"
   ]
  },
  {
   "cell_type": "code",
   "execution_count": 31,
   "id": "80fac862-7dd3-419b-9305-c26c8525da68",
   "metadata": {},
   "outputs": [
    {
     "data": {
      "text/html": [
       "<div>\n",
       "<style scoped>\n",
       "    .dataframe tbody tr th:only-of-type {\n",
       "        vertical-align: middle;\n",
       "    }\n",
       "\n",
       "    .dataframe tbody tr th {\n",
       "        vertical-align: top;\n",
       "    }\n",
       "\n",
       "    .dataframe thead th {\n",
       "        text-align: right;\n",
       "    }\n",
       "</style>\n",
       "<table border=\"1\" class=\"dataframe\">\n",
       "  <thead>\n",
       "    <tr style=\"text-align: right;\">\n",
       "      <th></th>\n",
       "      <th>Target</th>\n",
       "      <th>x1</th>\n",
       "      <th>x2</th>\n",
       "      <th>x3</th>\n",
       "      <th>x4</th>\n",
       "      <th>x5</th>\n",
       "      <th>x6</th>\n",
       "      <th>x7</th>\n",
       "      <th>x8</th>\n",
       "      <th>x9</th>\n",
       "      <th>...</th>\n",
       "      <th>x187</th>\n",
       "      <th>x188</th>\n",
       "      <th>x189</th>\n",
       "      <th>x190</th>\n",
       "      <th>x191</th>\n",
       "      <th>x192</th>\n",
       "      <th>x193</th>\n",
       "      <th>x194</th>\n",
       "      <th>x195</th>\n",
       "      <th>x196</th>\n",
       "    </tr>\n",
       "  </thead>\n",
       "  <tbody>\n",
       "    <tr>\n",
       "      <th>0</th>\n",
       "      <td>1.58</td>\n",
       "      <td>59.068</td>\n",
       "      <td>54.028</td>\n",
       "      <td>59.037114</td>\n",
       "      <td>24</td>\n",
       "      <td>0</td>\n",
       "      <td>0.213790</td>\n",
       "      <td>-0.369921</td>\n",
       "      <td>0.369921</td>\n",
       "      <td>0.213790</td>\n",
       "      <td>...</td>\n",
       "      <td>0</td>\n",
       "      <td>0</td>\n",
       "      <td>0</td>\n",
       "      <td>0</td>\n",
       "      <td>0</td>\n",
       "      <td>0</td>\n",
       "      <td>0</td>\n",
       "      <td>0</td>\n",
       "      <td>0</td>\n",
       "      <td>0</td>\n",
       "    </tr>\n",
       "    <tr>\n",
       "      <th>1</th>\n",
       "      <td>1.34</td>\n",
       "      <td>46.073</td>\n",
       "      <td>40.025</td>\n",
       "      <td>46.053098</td>\n",
       "      <td>20</td>\n",
       "      <td>0</td>\n",
       "      <td>-0.001725</td>\n",
       "      <td>-0.271722</td>\n",
       "      <td>0.271722</td>\n",
       "      <td>0.001725</td>\n",
       "      <td>...</td>\n",
       "      <td>0</td>\n",
       "      <td>0</td>\n",
       "      <td>0</td>\n",
       "      <td>0</td>\n",
       "      <td>0</td>\n",
       "      <td>0</td>\n",
       "      <td>0</td>\n",
       "      <td>0</td>\n",
       "      <td>0</td>\n",
       "      <td>0</td>\n",
       "    </tr>\n",
       "    <tr>\n",
       "      <th>2</th>\n",
       "      <td>1.22</td>\n",
       "      <td>60.052</td>\n",
       "      <td>56.020</td>\n",
       "      <td>60.021129</td>\n",
       "      <td>24</td>\n",
       "      <td>0</td>\n",
       "      <td>0.299685</td>\n",
       "      <td>-0.481433</td>\n",
       "      <td>0.481433</td>\n",
       "      <td>0.299685</td>\n",
       "      <td>...</td>\n",
       "      <td>0</td>\n",
       "      <td>0</td>\n",
       "      <td>0</td>\n",
       "      <td>0</td>\n",
       "      <td>0</td>\n",
       "      <td>0</td>\n",
       "      <td>0</td>\n",
       "      <td>0</td>\n",
       "      <td>0</td>\n",
       "      <td>0</td>\n",
       "    </tr>\n",
       "    <tr>\n",
       "      <th>3</th>\n",
       "      <td>1.15</td>\n",
       "      <td>71.123</td>\n",
       "      <td>62.051</td>\n",
       "      <td>71.073499</td>\n",
       "      <td>30</td>\n",
       "      <td>0</td>\n",
       "      <td>-0.004845</td>\n",
       "      <td>-0.316731</td>\n",
       "      <td>0.316731</td>\n",
       "      <td>0.004845</td>\n",
       "      <td>...</td>\n",
       "      <td>0</td>\n",
       "      <td>0</td>\n",
       "      <td>0</td>\n",
       "      <td>0</td>\n",
       "      <td>0</td>\n",
       "      <td>0</td>\n",
       "      <td>0</td>\n",
       "      <td>0</td>\n",
       "      <td>0</td>\n",
       "      <td>0</td>\n",
       "    </tr>\n",
       "    <tr>\n",
       "      <th>4</th>\n",
       "      <td>1.12</td>\n",
       "      <td>76.055</td>\n",
       "      <td>72.023</td>\n",
       "      <td>76.027277</td>\n",
       "      <td>30</td>\n",
       "      <td>0</td>\n",
       "      <td>0.335391</td>\n",
       "      <td>-0.349891</td>\n",
       "      <td>0.349891</td>\n",
       "      <td>0.335391</td>\n",
       "      <td>...</td>\n",
       "      <td>0</td>\n",
       "      <td>0</td>\n",
       "      <td>0</td>\n",
       "      <td>0</td>\n",
       "      <td>0</td>\n",
       "      <td>0</td>\n",
       "      <td>0</td>\n",
       "      <td>0</td>\n",
       "      <td>0</td>\n",
       "      <td>1</td>\n",
       "    </tr>\n",
       "  </tbody>\n",
       "</table>\n",
       "<p>5 rows × 197 columns</p>\n",
       "</div>"
      ],
      "text/plain": [
       "   Target      x1      x2         x3  x4  x5        x6        x7        x8  \\\n",
       "0    1.58  59.068  54.028  59.037114  24   0  0.213790 -0.369921  0.369921   \n",
       "1    1.34  46.073  40.025  46.053098  20   0 -0.001725 -0.271722  0.271722   \n",
       "2    1.22  60.052  56.020  60.021129  24   0  0.299685 -0.481433  0.481433   \n",
       "3    1.15  71.123  62.051  71.073499  30   0 -0.004845 -0.316731  0.316731   \n",
       "4    1.12  76.055  72.023  76.027277  30   0  0.335391 -0.349891  0.349891   \n",
       "\n",
       "         x9  ...  x187  x188  x189  x190  x191  x192  x193  x194  x195  x196  \n",
       "0  0.213790  ...     0     0     0     0     0     0     0     0     0     0  \n",
       "1  0.001725  ...     0     0     0     0     0     0     0     0     0     0  \n",
       "2  0.299685  ...     0     0     0     0     0     0     0     0     0     0  \n",
       "3  0.004845  ...     0     0     0     0     0     0     0     0     0     0  \n",
       "4  0.335391  ...     0     0     0     0     0     0     0     0     0     1  \n",
       "\n",
       "[5 rows x 197 columns]"
      ]
     },
     "execution_count": 31,
     "metadata": {},
     "output_type": "execute_result"
    }
   ],
   "source": [
    "df = pd.read_csv(\"regression_pls.csv\")\n",
    "df.head()"
   ]
  },
  {
   "cell_type": "code",
   "execution_count": 33,
   "id": "3c4ace8f-9ea2-469d-996b-313279970cee",
   "metadata": {},
   "outputs": [
    {
     "data": {
      "text/plain": [
       "(1290, 197)"
      ]
     },
     "execution_count": 33,
     "metadata": {},
     "output_type": "execute_result"
    }
   ],
   "source": [
    "df.shape"
   ]
  },
  {
   "cell_type": "code",
   "execution_count": 36,
   "id": "cf0ccacc-b006-4108-a9a1-09b36e4f0de9",
   "metadata": {},
   "outputs": [],
   "source": [
    "t = df['Target'].values\n",
    "x = df.drop(\"Target\",axis=1).values"
   ]
  },
  {
   "cell_type": "code",
   "execution_count": 45,
   "id": "d1980020-40f3-4a24-925f-b7d8715b4839",
   "metadata": {},
   "outputs": [],
   "source": [
    "x_train,x_test,t_train,t_test = train_test_split(x,t,test_size=0.3, random_state=0)"
   ]
  },
  {
   "cell_type": "code",
   "execution_count": 57,
   "id": "ee3d07ba-5387-4312-b051-48faf90c35dd",
   "metadata": {},
   "outputs": [
    {
     "data": {
      "text/plain": [
       "((903, 196), (903,), (387, 196), (387,))"
      ]
     },
     "execution_count": 57,
     "metadata": {},
     "output_type": "execute_result"
    }
   ],
   "source": [
    "x_train.shape,t_train.shape,x_test.shape,t_test.shape"
   ]
  },
  {
   "cell_type": "code",
   "execution_count": 47,
   "id": "82514291-7988-4f5d-b879-0606c8598262",
   "metadata": {},
   "outputs": [],
   "source": [
    "model = LinearRegression()"
   ]
  },
  {
   "cell_type": "code",
   "execution_count": 48,
   "id": "d4774052-57a2-41a9-b300-9405994c5923",
   "metadata": {},
   "outputs": [
    {
     "data": {
      "text/plain": [
       "LinearRegression()"
      ]
     },
     "execution_count": 48,
     "metadata": {},
     "output_type": "execute_result"
    }
   ],
   "source": [
    "model.fit(x_train,t_train)"
   ]
  },
  {
   "cell_type": "code",
   "execution_count": 56,
   "id": "8d76d332-b437-4a7c-920d-1e0a40b93c3b",
   "metadata": {},
   "outputs": [
    {
     "name": "stdout",
     "output_type": "stream",
     "text": [
      "train score: 0.9365473869097838\n",
      "test score: -0.020168921810233664\n"
     ]
    }
   ],
   "source": [
    "print(f\"train score: {model.score(x_train,t_train)}\")\n",
    "print(f\"test score: {model.score(x_test, t_test)}\")"
   ]
  },
  {
   "cell_type": "code",
   "execution_count": 58,
   "id": "18e76252-6956-4c60-af94-0209c96d43c9",
   "metadata": {},
   "outputs": [
    {
     "data": {
      "text/html": [
       "<div>\n",
       "<style scoped>\n",
       "    .dataframe tbody tr th:only-of-type {\n",
       "        vertical-align: middle;\n",
       "    }\n",
       "\n",
       "    .dataframe tbody tr th {\n",
       "        vertical-align: top;\n",
       "    }\n",
       "\n",
       "    .dataframe thead th {\n",
       "        text-align: right;\n",
       "    }\n",
       "</style>\n",
       "<table border=\"1\" class=\"dataframe\">\n",
       "  <thead>\n",
       "    <tr style=\"text-align: right;\">\n",
       "      <th></th>\n",
       "      <th>Target</th>\n",
       "      <th>x1</th>\n",
       "      <th>x2</th>\n",
       "      <th>x3</th>\n",
       "      <th>x4</th>\n",
       "      <th>x5</th>\n",
       "      <th>x6</th>\n",
       "      <th>x7</th>\n",
       "      <th>x8</th>\n",
       "      <th>x9</th>\n",
       "      <th>...</th>\n",
       "      <th>x187</th>\n",
       "      <th>x188</th>\n",
       "      <th>x189</th>\n",
       "      <th>x190</th>\n",
       "      <th>x191</th>\n",
       "      <th>x192</th>\n",
       "      <th>x193</th>\n",
       "      <th>x194</th>\n",
       "      <th>x195</th>\n",
       "      <th>x196</th>\n",
       "    </tr>\n",
       "  </thead>\n",
       "  <tbody>\n",
       "    <tr>\n",
       "      <th>Target</th>\n",
       "      <td>1.000000</td>\n",
       "      <td>-0.642326</td>\n",
       "      <td>-0.648078</td>\n",
       "      <td>-0.640489</td>\n",
       "      <td>-0.524453</td>\n",
       "      <td>NaN</td>\n",
       "      <td>0.111829</td>\n",
       "      <td>-0.360696</td>\n",
       "      <td>0.357026</td>\n",
       "      <td>0.113189</td>\n",
       "      <td>...</td>\n",
       "      <td>-0.032287</td>\n",
       "      <td>-0.015204</td>\n",
       "      <td>0.019244</td>\n",
       "      <td>-0.047169</td>\n",
       "      <td>NaN</td>\n",
       "      <td>0.007788</td>\n",
       "      <td>NaN</td>\n",
       "      <td>0.002448</td>\n",
       "      <td>-0.113820</td>\n",
       "      <td>0.043600</td>\n",
       "    </tr>\n",
       "    <tr>\n",
       "      <th>x1</th>\n",
       "      <td>-0.642326</td>\n",
       "      <td>1.000000</td>\n",
       "      <td>0.997571</td>\n",
       "      <td>0.999978</td>\n",
       "      <td>0.908895</td>\n",
       "      <td>NaN</td>\n",
       "      <td>0.322508</td>\n",
       "      <td>-0.117193</td>\n",
       "      <td>0.134074</td>\n",
       "      <td>0.298204</td>\n",
       "      <td>...</td>\n",
       "      <td>0.051291</td>\n",
       "      <td>0.186110</td>\n",
       "      <td>0.027947</td>\n",
       "      <td>-0.002219</td>\n",
       "      <td>NaN</td>\n",
       "      <td>0.001304</td>\n",
       "      <td>NaN</td>\n",
       "      <td>-0.015226</td>\n",
       "      <td>-0.038657</td>\n",
       "      <td>0.027857</td>\n",
       "    </tr>\n",
       "    <tr>\n",
       "      <th>x2</th>\n",
       "      <td>-0.648078</td>\n",
       "      <td>0.997571</td>\n",
       "      <td>1.000000</td>\n",
       "      <td>0.997252</td>\n",
       "      <td>0.883891</td>\n",
       "      <td>NaN</td>\n",
       "      <td>0.322631</td>\n",
       "      <td>-0.097297</td>\n",
       "      <td>0.115794</td>\n",
       "      <td>0.294947</td>\n",
       "      <td>...</td>\n",
       "      <td>0.047416</td>\n",
       "      <td>0.191792</td>\n",
       "      <td>0.029659</td>\n",
       "      <td>-0.007914</td>\n",
       "      <td>NaN</td>\n",
       "      <td>0.005912</td>\n",
       "      <td>NaN</td>\n",
       "      <td>-0.015106</td>\n",
       "      <td>-0.062823</td>\n",
       "      <td>0.027773</td>\n",
       "    </tr>\n",
       "    <tr>\n",
       "      <th>x3</th>\n",
       "      <td>-0.640489</td>\n",
       "      <td>0.999978</td>\n",
       "      <td>0.997252</td>\n",
       "      <td>1.000000</td>\n",
       "      <td>0.910855</td>\n",
       "      <td>NaN</td>\n",
       "      <td>0.324352</td>\n",
       "      <td>-0.120477</td>\n",
       "      <td>0.137237</td>\n",
       "      <td>0.300415</td>\n",
       "      <td>...</td>\n",
       "      <td>0.051542</td>\n",
       "      <td>0.186772</td>\n",
       "      <td>0.028046</td>\n",
       "      <td>-0.002001</td>\n",
       "      <td>NaN</td>\n",
       "      <td>0.001447</td>\n",
       "      <td>NaN</td>\n",
       "      <td>-0.015093</td>\n",
       "      <td>-0.038138</td>\n",
       "      <td>0.028359</td>\n",
       "    </tr>\n",
       "    <tr>\n",
       "      <th>x4</th>\n",
       "      <td>-0.524453</td>\n",
       "      <td>0.908895</td>\n",
       "      <td>0.883891</td>\n",
       "      <td>0.910855</td>\n",
       "      <td>1.000000</td>\n",
       "      <td>NaN</td>\n",
       "      <td>0.385792</td>\n",
       "      <td>-0.284647</td>\n",
       "      <td>0.293981</td>\n",
       "      <td>0.382603</td>\n",
       "      <td>...</td>\n",
       "      <td>0.044125</td>\n",
       "      <td>0.174983</td>\n",
       "      <td>0.022996</td>\n",
       "      <td>0.018780</td>\n",
       "      <td>NaN</td>\n",
       "      <td>-0.010834</td>\n",
       "      <td>NaN</td>\n",
       "      <td>-0.016378</td>\n",
       "      <td>0.027813</td>\n",
       "      <td>0.055553</td>\n",
       "    </tr>\n",
       "    <tr>\n",
       "      <th>...</th>\n",
       "      <td>...</td>\n",
       "      <td>...</td>\n",
       "      <td>...</td>\n",
       "      <td>...</td>\n",
       "      <td>...</td>\n",
       "      <td>...</td>\n",
       "      <td>...</td>\n",
       "      <td>...</td>\n",
       "      <td>...</td>\n",
       "      <td>...</td>\n",
       "      <td>...</td>\n",
       "      <td>...</td>\n",
       "      <td>...</td>\n",
       "      <td>...</td>\n",
       "      <td>...</td>\n",
       "      <td>...</td>\n",
       "      <td>...</td>\n",
       "      <td>...</td>\n",
       "      <td>...</td>\n",
       "      <td>...</td>\n",
       "      <td>...</td>\n",
       "    </tr>\n",
       "    <tr>\n",
       "      <th>x192</th>\n",
       "      <td>0.007788</td>\n",
       "      <td>0.001304</td>\n",
       "      <td>0.005912</td>\n",
       "      <td>0.001447</td>\n",
       "      <td>-0.010834</td>\n",
       "      <td>NaN</td>\n",
       "      <td>0.024306</td>\n",
       "      <td>-0.015943</td>\n",
       "      <td>0.014061</td>\n",
       "      <td>0.025697</td>\n",
       "      <td>...</td>\n",
       "      <td>-0.012022</td>\n",
       "      <td>0.067807</td>\n",
       "      <td>-0.005229</td>\n",
       "      <td>-0.007409</td>\n",
       "      <td>NaN</td>\n",
       "      <td>1.000000</td>\n",
       "      <td>NaN</td>\n",
       "      <td>-0.006191</td>\n",
       "      <td>-0.019703</td>\n",
       "      <td>0.023996</td>\n",
       "    </tr>\n",
       "    <tr>\n",
       "      <th>x193</th>\n",
       "      <td>NaN</td>\n",
       "      <td>NaN</td>\n",
       "      <td>NaN</td>\n",
       "      <td>NaN</td>\n",
       "      <td>NaN</td>\n",
       "      <td>NaN</td>\n",
       "      <td>NaN</td>\n",
       "      <td>NaN</td>\n",
       "      <td>NaN</td>\n",
       "      <td>NaN</td>\n",
       "      <td>...</td>\n",
       "      <td>NaN</td>\n",
       "      <td>NaN</td>\n",
       "      <td>NaN</td>\n",
       "      <td>NaN</td>\n",
       "      <td>NaN</td>\n",
       "      <td>NaN</td>\n",
       "      <td>NaN</td>\n",
       "      <td>NaN</td>\n",
       "      <td>NaN</td>\n",
       "      <td>NaN</td>\n",
       "    </tr>\n",
       "    <tr>\n",
       "      <th>x194</th>\n",
       "      <td>0.002448</td>\n",
       "      <td>-0.015226</td>\n",
       "      <td>-0.015106</td>\n",
       "      <td>-0.015093</td>\n",
       "      <td>-0.016378</td>\n",
       "      <td>NaN</td>\n",
       "      <td>-0.041735</td>\n",
       "      <td>0.036258</td>\n",
       "      <td>-0.038957</td>\n",
       "      <td>-0.042337</td>\n",
       "      <td>...</td>\n",
       "      <td>-0.010594</td>\n",
       "      <td>-0.014830</td>\n",
       "      <td>-0.004608</td>\n",
       "      <td>-0.006529</td>\n",
       "      <td>NaN</td>\n",
       "      <td>-0.006191</td>\n",
       "      <td>NaN</td>\n",
       "      <td>1.000000</td>\n",
       "      <td>-0.017362</td>\n",
       "      <td>-0.015667</td>\n",
       "    </tr>\n",
       "    <tr>\n",
       "      <th>x195</th>\n",
       "      <td>-0.113820</td>\n",
       "      <td>-0.038657</td>\n",
       "      <td>-0.062823</td>\n",
       "      <td>-0.038138</td>\n",
       "      <td>0.027813</td>\n",
       "      <td>NaN</td>\n",
       "      <td>0.009401</td>\n",
       "      <td>-0.077525</td>\n",
       "      <td>0.070936</td>\n",
       "      <td>0.019969</td>\n",
       "      <td>...</td>\n",
       "      <td>-0.009401</td>\n",
       "      <td>-0.034774</td>\n",
       "      <td>-0.014663</td>\n",
       "      <td>0.057135</td>\n",
       "      <td>NaN</td>\n",
       "      <td>-0.019703</td>\n",
       "      <td>NaN</td>\n",
       "      <td>-0.017362</td>\n",
       "      <td>1.000000</td>\n",
       "      <td>-0.040662</td>\n",
       "    </tr>\n",
       "    <tr>\n",
       "      <th>x196</th>\n",
       "      <td>0.043600</td>\n",
       "      <td>0.027857</td>\n",
       "      <td>0.027773</td>\n",
       "      <td>0.028359</td>\n",
       "      <td>0.055553</td>\n",
       "      <td>NaN</td>\n",
       "      <td>0.242888</td>\n",
       "      <td>0.000282</td>\n",
       "      <td>0.023008</td>\n",
       "      <td>0.227033</td>\n",
       "      <td>...</td>\n",
       "      <td>-0.030421</td>\n",
       "      <td>0.083811</td>\n",
       "      <td>-0.013231</td>\n",
       "      <td>0.020899</td>\n",
       "      <td>NaN</td>\n",
       "      <td>0.023996</td>\n",
       "      <td>NaN</td>\n",
       "      <td>-0.015667</td>\n",
       "      <td>-0.040662</td>\n",
       "      <td>1.000000</td>\n",
       "    </tr>\n",
       "  </tbody>\n",
       "</table>\n",
       "<p>197 rows × 197 columns</p>\n",
       "</div>"
      ],
      "text/plain": [
       "          Target        x1        x2        x3        x4  x5        x6  \\\n",
       "Target  1.000000 -0.642326 -0.648078 -0.640489 -0.524453 NaN  0.111829   \n",
       "x1     -0.642326  1.000000  0.997571  0.999978  0.908895 NaN  0.322508   \n",
       "x2     -0.648078  0.997571  1.000000  0.997252  0.883891 NaN  0.322631   \n",
       "x3     -0.640489  0.999978  0.997252  1.000000  0.910855 NaN  0.324352   \n",
       "x4     -0.524453  0.908895  0.883891  0.910855  1.000000 NaN  0.385792   \n",
       "...          ...       ...       ...       ...       ...  ..       ...   \n",
       "x192    0.007788  0.001304  0.005912  0.001447 -0.010834 NaN  0.024306   \n",
       "x193         NaN       NaN       NaN       NaN       NaN NaN       NaN   \n",
       "x194    0.002448 -0.015226 -0.015106 -0.015093 -0.016378 NaN -0.041735   \n",
       "x195   -0.113820 -0.038657 -0.062823 -0.038138  0.027813 NaN  0.009401   \n",
       "x196    0.043600  0.027857  0.027773  0.028359  0.055553 NaN  0.242888   \n",
       "\n",
       "              x7        x8        x9  ...      x187      x188      x189  \\\n",
       "Target -0.360696  0.357026  0.113189  ... -0.032287 -0.015204  0.019244   \n",
       "x1     -0.117193  0.134074  0.298204  ...  0.051291  0.186110  0.027947   \n",
       "x2     -0.097297  0.115794  0.294947  ...  0.047416  0.191792  0.029659   \n",
       "x3     -0.120477  0.137237  0.300415  ...  0.051542  0.186772  0.028046   \n",
       "x4     -0.284647  0.293981  0.382603  ...  0.044125  0.174983  0.022996   \n",
       "...          ...       ...       ...  ...       ...       ...       ...   \n",
       "x192   -0.015943  0.014061  0.025697  ... -0.012022  0.067807 -0.005229   \n",
       "x193         NaN       NaN       NaN  ...       NaN       NaN       NaN   \n",
       "x194    0.036258 -0.038957 -0.042337  ... -0.010594 -0.014830 -0.004608   \n",
       "x195   -0.077525  0.070936  0.019969  ... -0.009401 -0.034774 -0.014663   \n",
       "x196    0.000282  0.023008  0.227033  ... -0.030421  0.083811 -0.013231   \n",
       "\n",
       "            x190  x191      x192  x193      x194      x195      x196  \n",
       "Target -0.047169   NaN  0.007788   NaN  0.002448 -0.113820  0.043600  \n",
       "x1     -0.002219   NaN  0.001304   NaN -0.015226 -0.038657  0.027857  \n",
       "x2     -0.007914   NaN  0.005912   NaN -0.015106 -0.062823  0.027773  \n",
       "x3     -0.002001   NaN  0.001447   NaN -0.015093 -0.038138  0.028359  \n",
       "x4      0.018780   NaN -0.010834   NaN -0.016378  0.027813  0.055553  \n",
       "...          ...   ...       ...   ...       ...       ...       ...  \n",
       "x192   -0.007409   NaN  1.000000   NaN -0.006191 -0.019703  0.023996  \n",
       "x193         NaN   NaN       NaN   NaN       NaN       NaN       NaN  \n",
       "x194   -0.006529   NaN -0.006191   NaN  1.000000 -0.017362 -0.015667  \n",
       "x195    0.057135   NaN -0.019703   NaN -0.017362  1.000000 -0.040662  \n",
       "x196    0.020899   NaN  0.023996   NaN -0.015667 -0.040662  1.000000  \n",
       "\n",
       "[197 rows x 197 columns]"
      ]
     },
     "execution_count": 58,
     "metadata": {},
     "output_type": "execute_result"
    }
   ],
   "source": [
    "df.corr()"
   ]
  },
  {
   "cell_type": "code",
   "execution_count": 59,
   "id": "a9d346d0-7133-4b5f-bbd4-8d0aeff7e4de",
   "metadata": {},
   "outputs": [],
   "source": [
    "#57:19まだ理解できてない"
   ]
  },
  {
   "cell_type": "code",
   "execution_count": null,
   "id": "bd4a169d-0067-44fa-94a6-e67c3262b207",
   "metadata": {},
   "outputs": [],
   "source": []
  }
 ],
 "metadata": {
  "kernelspec": {
   "display_name": "Python 3 (ipykernel)",
   "language": "python",
   "name": "python3"
  },
  "language_info": {
   "codemirror_mode": {
    "name": "ipython",
    "version": 3
   },
   "file_extension": ".py",
   "mimetype": "text/x-python",
   "name": "python",
   "nbconvert_exporter": "python",
   "pygments_lexer": "ipython3",
   "version": "3.9.13"
  }
 },
 "nbformat": 4,
 "nbformat_minor": 5
}
