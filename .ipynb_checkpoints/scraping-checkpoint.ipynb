{
 "cells": [
  {
   "cell_type": "code",
   "execution_count": 1,
   "id": "41b1d123-98bc-41fc-af3b-025246d951af",
   "metadata": {},
   "outputs": [],
   "source": [
    "# !pip3 install selenium"
   ]
  },
  {
   "cell_type": "code",
   "execution_count": 2,
   "id": "62d336b5-edd5-4af8-aa51-b7a16538626b",
   "metadata": {},
   "outputs": [],
   "source": [
    "# !pip3 install beautifulsoup4"
   ]
  },
  {
   "cell_type": "code",
   "execution_count": 3,
   "id": "49e1cb9d-7fc6-422b-a344-dce877737e21",
   "metadata": {},
   "outputs": [],
   "source": [
    "from selenium import webdriver\n",
    "import time\n",
    "import pandas as pd\n",
    "from webdriver_manager.chrome import ChromeDriverManager"
   ]
  },
  {
   "cell_type": "code",
   "execution_count": 4,
   "id": "a29531b7-2e3e-4b06-8132-183de3a113e4",
   "metadata": {},
   "outputs": [],
   "source": [
    "USER = \"test_user\"\n",
    "PASS = \"test_pw\""
   ]
  },
  {
   "cell_type": "code",
   "execution_count": 5,
   "id": "3e1239b7-0aa3-4246-8e02-0f3848a6b216",
   "metadata": {},
   "outputs": [
    {
     "name": "stderr",
     "output_type": "stream",
     "text": [
      "/var/folders/gs/q8j912890dvc_47yy8j49gkh0000gn/T/ipykernel_20096/242306559.py:1: DeprecationWarning: executable_path has been deprecated, please pass in a Service object\n",
      "  browser = webdriver.Chrome(executable_path=\"/Users/songsa/Downloads/chromedriver 4\")\n"
     ]
    }
   ],
   "source": [
    "browser = webdriver.Chrome(executable_path=\"/Users/songsa/Downloads/chromedriver 4\")\n",
    "browser.implicitly_wait(3)"
   ]
  },
  {
   "cell_type": "code",
   "execution_count": 6,
   "id": "ccddc95f-3366-4d80-b707-3ce08129f4dc",
   "metadata": {},
   "outputs": [
    {
     "name": "stdout",
     "output_type": "stream",
     "text": [
      "ログインページアクセス完了\n"
     ]
    }
   ],
   "source": [
    "url_login = \"https://kino-code.work/mypage/membership-login\"\n",
    "browser.get(url_login)\n",
    "time.sleep(1)\n",
    "print(\"ログインページアクセス完了\")"
   ]
  },
  {
   "cell_type": "code",
   "execution_count": 7,
   "id": "2aacd333-f9c5-4665-bcbc-98c9ade595ea",
   "metadata": {},
   "outputs": [
    {
     "name": "stderr",
     "output_type": "stream",
     "text": [
      "/var/folders/gs/q8j912890dvc_47yy8j49gkh0000gn/T/ipykernel_20096/1218391954.py:1: DeprecationWarning: find_element_by_* commands are deprecated. Please use find_element() instead\n",
      "  element = browser.find_element_by_id(\"swpm_user_name\")\n",
      "/var/folders/gs/q8j912890dvc_47yy8j49gkh0000gn/T/ipykernel_20096/1218391954.py:4: DeprecationWarning: find_element_by_* commands are deprecated. Please use find_element() instead\n",
      "  element = browser.find_element_by_id(\"swpm_password\")\n",
      "/var/folders/gs/q8j912890dvc_47yy8j49gkh0000gn/T/ipykernel_20096/1218391954.py:8: DeprecationWarning: find_element_by_* commands are deprecated. Please use find_element() instead\n",
      "  login_form = browser.find_element_by_class_name(\"swpm-login-form-submit\")\n"
     ]
    },
    {
     "name": "stdout",
     "output_type": "stream",
     "text": [
      "ログインボタンが押されました\n"
     ]
    }
   ],
   "source": [
    "element = browser.find_element_by_id(\"swpm_user_name\")\n",
    "element.clear()\n",
    "element.send_keys(USER)\n",
    "element = browser.find_element_by_id(\"swpm_password\")\n",
    "element.clear()\n",
    "element.send_keys(PASS)\n",
    "\n",
    "login_form = browser.find_element_by_class_name(\"swpm-login-form-submit\")\n",
    "time.sleep(1)\n",
    "login_form.click()\n",
    "print(\"ログインボタンが押されました\")"
   ]
  },
  {
   "cell_type": "code",
   "execution_count": 8,
   "id": "67813055-463a-468b-a4c3-65078b1172d8",
   "metadata": {},
   "outputs": [
    {
     "name": "stdout",
     "output_type": "stream",
     "text": [
      "https://kino-code.work/member-only/ アクセス完了\n"
     ]
    }
   ],
   "source": [
    "url=\"https://kino-code.work/member-only/\"\n",
    "time.sleep(3)\n",
    "browser.get(url)\n",
    "print(url,\"アクセス完了\")"
   ]
  },
  {
   "cell_type": "code",
   "execution_count": 9,
   "id": "6bf7d96f-9ed0-488a-8ec2-d4cd60b9b14f",
   "metadata": {},
   "outputs": [
    {
     "name": "stderr",
     "output_type": "stream",
     "text": [
      "/var/folders/gs/q8j912890dvc_47yy8j49gkh0000gn/T/ipykernel_20096/4273505842.py:1: DeprecationWarning: find_element_by_* commands are deprecated. Please use find_element() instead\n",
      "  frm = browser.find_element_by_xpath(\"/html/body/div/div[3]/div/div/aside[1]/form/input\")\n"
     ]
    }
   ],
   "source": [
    "frm = browser.find_element_by_xpath(\"/html/body/div/div[3]/div/div/aside[1]/form/input\")\n",
    "frm.clear()\n",
    "frm.send_keys(\"python\")"
   ]
  },
  {
   "cell_type": "code",
   "execution_count": 10,
   "id": "7422e67b-e11d-4b00-af22-a3cbf9e03ee9",
   "metadata": {},
   "outputs": [
    {
     "name": "stdout",
     "output_type": "stream",
     "text": [
      "close\n"
     ]
    }
   ],
   "source": [
    "browser.close()\n",
    "print(\"close\")"
   ]
  },
  {
   "cell_type": "code",
   "execution_count": null,
   "id": "c67c1b59-9830-4e39-bb84-f34c8a3fc28e",
   "metadata": {},
   "outputs": [],
   "source": []
  }
 ],
 "metadata": {
  "kernelspec": {
   "display_name": "Python 3 (ipykernel)",
   "language": "python",
   "name": "python3"
  },
  "language_info": {
   "codemirror_mode": {
    "name": "ipython",
    "version": 3
   },
   "file_extension": ".py",
   "mimetype": "text/x-python",
   "name": "python",
   "nbconvert_exporter": "python",
   "pygments_lexer": "ipython3",
   "version": "3.9.13"
  }
 },
 "nbformat": 4,
 "nbformat_minor": 5
}
