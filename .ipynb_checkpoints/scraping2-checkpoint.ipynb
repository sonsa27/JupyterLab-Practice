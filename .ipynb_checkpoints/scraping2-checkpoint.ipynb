{
 "cells": [
  {
   "cell_type": "code",
   "execution_count": 2,
   "id": "6de8e29a-5cc8-44b7-a03b-7cd92c430d20",
   "metadata": {},
   "outputs": [],
   "source": [
    "from bs4 import BeautifulSoup\n",
    "import requests\n",
    "import pandas as pd\n",
    "import time"
   ]
  },
  {
   "cell_type": "code",
   "execution_count": 5,
   "id": "9a4a818e-6b51-44ca-8d25-1a2b75f4a701",
   "metadata": {},
   "outputs": [],
   "source": [
    "url = \"https://kino-code.work/python-super-basic-course/\"\n",
    "r = requests.get(url)\n",
    "time.sleep(3)"
   ]
  },
  {
   "cell_type": "code",
   "execution_count": 6,
   "id": "e435e1c1-4d10-4095-b2c0-fdba4299b9de",
   "metadata": {},
   "outputs": [],
   "source": [
    "soup = BeautifulSoup(r.text,\"html.parser\")"
   ]
  },
  {
   "cell_type": "code",
   "execution_count": 8,
   "id": "f3261f25-bc35-4910-a0fa-35aa6ecf0272",
   "metadata": {},
   "outputs": [],
   "source": [
    "# soup"
   ]
  },
  {
   "cell_type": "code",
   "execution_count": 19,
   "id": "9461f661-d091-4554-a9aa-becec94d3696",
   "metadata": {},
   "outputs": [],
   "source": [
    "contents = soup.find(class_ = \"entry-content\")"
   ]
  },
  {
   "cell_type": "code",
   "execution_count": 16,
   "id": "7211ff7b-e5cc-4c43-8656-c5449730640f",
   "metadata": {},
   "outputs": [
    {
     "data": {
      "text/plain": [
       "<div class=\"entry-content cf\" itemprop=\"mainEntityOfPage\"><p><a href=\"https://kino-code.work/course-python01-course-introduction/\">Python超入門コース#01 Pythonのコース紹介</a></p><p><a href=\"https://kino-code.work/course-python02-what-python/\">Python超入門コース#02 Pythonとは？</a></p><p><a href=\"https://kino-code.work/course-python03-environment/\">Python超入門コース#03 環境構築 for Mac</a></p><p><a class=\"broken_link\" href=\"https://kino-code.work/course-python03-environment-for/\">Python超入門コース#03 環境構築 for Windows</a></p><p><a href=\"https://kino-code.work/course-python04-basic-structure/\">Python超入門コース#04 プログラムの基本構造</a></p><p><a href=\"https://kino-code.work/course-python05-runtime/\">Python超入門コース#05 実行</a></p><p><a href=\"https://kino-code.work/course-python06-variable/\">Python超入門コース#06 変数</a></p><p><a href=\"https://kino-code.work/course-python07-data-type/\">Python超入門コース#07 データ型</a></p><p><a href=\"https://kino-code.work/coruse-python08-list/\">Python超入門コース#08 リスト</a></p><p><a href=\"https://kino-code.work/course-python09-operator/\">Python超入門コース#09 演算子</a></p><p><a href=\"https://kino-code.work/course-python10-conditional-branch/\">Python超入門コース#10 条件分岐</a></p><p><a href=\"https://kino-code.work/course-python11-repetition/\">Python超入門コース#11 反復</a></p><p><a href=\"https://kino-code.work/course-python12-function/\">Python超入門コース#12 関数</a></p><p><a href=\"https://kino-code.work/course-python13-class/\">Python超入門コース#13 クラス</a></p><p><a href=\"https://kino-code.work/course-python14-practice/\">Python超入門コース#14 実践</a></p></div>"
      ]
     },
     "execution_count": 16,
     "metadata": {},
     "output_type": "execute_result"
    }
   ],
   "source": [
    "contents"
   ]
  },
  {
   "cell_type": "code",
   "execution_count": 20,
   "id": "fc77566f-1c2c-4c52-beb6-b4d67cc3f30b",
   "metadata": {},
   "outputs": [],
   "source": [
    "get_a = contents.find_all(\"a\")"
   ]
  },
  {
   "cell_type": "code",
   "execution_count": 21,
   "id": "b90ae338-3004-4c9f-9f9b-6e3738adfb46",
   "metadata": {},
   "outputs": [
    {
     "data": {
      "text/plain": [
       "[<a href=\"https://kino-code.work/course-python01-course-introduction/\">Python超入門コース#01 Pythonのコース紹介</a>,\n",
       " <a href=\"https://kino-code.work/course-python02-what-python/\">Python超入門コース#02 Pythonとは？</a>,\n",
       " <a href=\"https://kino-code.work/course-python03-environment/\">Python超入門コース#03 環境構築 for Mac</a>,\n",
       " <a class=\"broken_link\" href=\"https://kino-code.work/course-python03-environment-for/\">Python超入門コース#03 環境構築 for Windows</a>,\n",
       " <a href=\"https://kino-code.work/course-python04-basic-structure/\">Python超入門コース#04 プログラムの基本構造</a>,\n",
       " <a href=\"https://kino-code.work/course-python05-runtime/\">Python超入門コース#05 実行</a>,\n",
       " <a href=\"https://kino-code.work/course-python06-variable/\">Python超入門コース#06 変数</a>,\n",
       " <a href=\"https://kino-code.work/course-python07-data-type/\">Python超入門コース#07 データ型</a>,\n",
       " <a href=\"https://kino-code.work/coruse-python08-list/\">Python超入門コース#08 リスト</a>,\n",
       " <a href=\"https://kino-code.work/course-python09-operator/\">Python超入門コース#09 演算子</a>,\n",
       " <a href=\"https://kino-code.work/course-python10-conditional-branch/\">Python超入門コース#10 条件分岐</a>,\n",
       " <a href=\"https://kino-code.work/course-python11-repetition/\">Python超入門コース#11 反復</a>,\n",
       " <a href=\"https://kino-code.work/course-python12-function/\">Python超入門コース#12 関数</a>,\n",
       " <a href=\"https://kino-code.work/course-python13-class/\">Python超入門コース#13 クラス</a>,\n",
       " <a href=\"https://kino-code.work/course-python14-practice/\">Python超入門コース#14 実践</a>]"
      ]
     },
     "execution_count": 21,
     "metadata": {},
     "output_type": "execute_result"
    }
   ],
   "source": [
    "get_a"
   ]
  },
  {
   "cell_type": "code",
   "execution_count": 22,
   "id": "2d999bfd-db33-4199-abbc-bc4472a99671",
   "metadata": {},
   "outputs": [
    {
     "data": {
      "text/plain": [
       "15"
      ]
     },
     "execution_count": 22,
     "metadata": {},
     "output_type": "execute_result"
    }
   ],
   "source": [
    "len(get_a)"
   ]
  },
  {
   "cell_type": "code",
   "execution_count": 25,
   "id": "26ad1f0a-d771-427a-918b-6e2eefc4c893",
   "metadata": {},
   "outputs": [],
   "source": [
    "title_links = []\n",
    "for i in range(len(get_a)):\n",
    "    try:\n",
    "        link = get_a[i].get(\"href\")\n",
    "        title_links.append(link)\n",
    "    except:\n",
    "        pass"
   ]
  },
  {
   "cell_type": "code",
   "execution_count": 26,
   "id": "7cf896c2-c5c1-4f4a-b36d-54ff1091db02",
   "metadata": {},
   "outputs": [
    {
     "data": {
      "text/plain": [
       "['https://kino-code.work/course-python01-course-introduction/',\n",
       " 'https://kino-code.work/course-python02-what-python/',\n",
       " 'https://kino-code.work/course-python03-environment/',\n",
       " 'https://kino-code.work/course-python03-environment-for/',\n",
       " 'https://kino-code.work/course-python04-basic-structure/',\n",
       " 'https://kino-code.work/course-python05-runtime/',\n",
       " 'https://kino-code.work/course-python06-variable/',\n",
       " 'https://kino-code.work/course-python07-data-type/',\n",
       " 'https://kino-code.work/coruse-python08-list/',\n",
       " 'https://kino-code.work/course-python09-operator/',\n",
       " 'https://kino-code.work/course-python10-conditional-branch/',\n",
       " 'https://kino-code.work/course-python11-repetition/',\n",
       " 'https://kino-code.work/course-python12-function/',\n",
       " 'https://kino-code.work/course-python13-class/',\n",
       " 'https://kino-code.work/course-python14-practice/']"
      ]
     },
     "execution_count": 26,
     "metadata": {},
     "output_type": "execute_result"
    }
   ],
   "source": [
    "title_links"
   ]
  },
  {
   "cell_type": "code",
   "execution_count": 34,
   "id": "c71e0407-9b7c-4314-a4ee-e592ace6640c",
   "metadata": {},
   "outputs": [
    {
     "name": "stdout",
     "output_type": "stream",
     "text": [
      "0:https://kino-code.work/course-python01-course-introduction/\n",
      "1:https://kino-code.work/course-python02-what-python/\n",
      "2:https://kino-code.work/course-python03-environment/\n",
      "3:https://kino-code.work/course-python03-environment-for/\n",
      "4:https://kino-code.work/course-python04-basic-structure/\n",
      "5:https://kino-code.work/course-python05-runtime/\n",
      "6:https://kino-code.work/course-python06-variable/\n",
      "7:https://kino-code.work/course-python07-data-type/\n",
      "8:https://kino-code.work/coruse-python08-list/\n",
      "9:https://kino-code.work/course-python09-operator/\n",
      "10:https://kino-code.work/course-python10-conditional-branch/\n",
      "11:https://kino-code.work/course-python11-repetition/\n",
      "12:https://kino-code.work/course-python12-function/\n",
      "13:https://kino-code.work/course-python13-class/\n",
      "14:https://kino-code.work/course-python14-practice/\n"
     ]
    }
   ],
   "source": [
    "for i in range(len(title_links)):\n",
    "    title_link = title_links[i]\n",
    "    print(str(i) + \":\" + title_link)"
   ]
  },
  {
   "cell_type": "code",
   "execution_count": 42,
   "id": "a1cbc187-aca2-4156-86f2-413ff434e669",
   "metadata": {},
   "outputs": [
    {
     "name": "stdout",
     "output_type": "stream",
     "text": [
      " Python超入門コース#01 Pythonのコース紹介\n",
      " Python超入門コース#02 Pythonとは？\n",
      " Python超入門コース#03 環境構築\n",
      "404 NOT FOUND\n",
      " Python超入門コース#04 プログラムの基本構造\n",
      " Python超入門コース#05 実行\n",
      " Python超入門コース#06 変数\n",
      " Python超入門コース#07 データ型\n",
      " Python超入門コース#08 リスト\n",
      " python超入門コース#09 演算子\n",
      " Python超入門コース#10 条件分岐\n",
      " Python超入門コース#11 反復\n",
      " Python超入門コース#12 関数\n",
      " Python超入門コース#13 クラス\n",
      " Python超入門コース#14 実践\n"
     ]
    }
   ],
   "source": [
    "youtbe_titles = []\n",
    "youtbe_links = []\n",
    "for i in range(len(title_links)):\n",
    "    title_link = title_links[i]\n",
    "    \n",
    "    r = requests.get(title_link)\n",
    "    time.sleep(3)\n",
    "    soup = BeautifulSoup(r.text,\"html.parser\")\n",
    "    youtube_title = soup.find(class_ = \"entry-title\").text\n",
    "    print(youtube_title)"
   ]
  },
  {
   "cell_type": "code",
   "execution_count": 51,
   "id": "661f3768-79ce-4a89-a167-400e2b3e1d2d",
   "metadata": {},
   "outputs": [],
   "source": [
    "youtube_titles = []\n",
    "youtube_links = []\n",
    "for i in range(len(title_links)):\n",
    "    title_link = title_links[i]\n",
    "    \n",
    "    r = requests.get(title_link)\n",
    "    time.sleep(3)\n",
    "    soup = BeautifulSoup(r.text,\"html.parser\")\n",
    "    youtube_title = soup.find(class_ = \"entry-title\").text\n",
    "    if youtube_title == \"404 NOT FOUND\":\n",
    "        continue\n",
    "    else:\n",
    "        youtube_titles.append(youtube_title)\n",
    "    \n",
    "        youtube_link = soup.find(\"iframe\")[\"src\"].replace(\"embed/\",\"watch?v=\")\n",
    "        youtube_links.append(youtube_link)"
   ]
  },
  {
   "cell_type": "code",
   "execution_count": 52,
   "id": "0e5a6a6e-b064-4908-bfa5-8ad8f2297c72",
   "metadata": {},
   "outputs": [
    {
     "data": {
      "text/plain": [
       "[' Python超入門コース#01 Pythonのコース紹介',\n",
       " ' Python超入門コース#02 Pythonとは？',\n",
       " ' Python超入門コース#03 環境構築',\n",
       " ' Python超入門コース#04 プログラムの基本構造',\n",
       " ' Python超入門コース#05 実行',\n",
       " ' Python超入門コース#06 変数',\n",
       " ' Python超入門コース#07 データ型',\n",
       " ' Python超入門コース#08 リスト',\n",
       " ' python超入門コース#09 演算子',\n",
       " ' Python超入門コース#10 条件分岐',\n",
       " ' Python超入門コース#11 反復',\n",
       " ' Python超入門コース#12 関数',\n",
       " ' Python超入門コース#13 クラス',\n",
       " ' Python超入門コース#14 実践']"
      ]
     },
     "execution_count": 52,
     "metadata": {},
     "output_type": "execute_result"
    }
   ],
   "source": [
    "youtube_titles"
   ]
  },
  {
   "cell_type": "code",
   "execution_count": 53,
   "id": "c2bc3407-5539-4ca3-8c22-dabf2c90dddc",
   "metadata": {},
   "outputs": [
    {
     "data": {
      "text/plain": [
       "['https://www.youtube.com/watch?v=3jymAyMJjR8',\n",
       " 'https://www.youtube.com/watch?v=vfd80_TBM7U',\n",
       " 'https://www.youtube.com/watch?v=qbpvBr71h9U',\n",
       " 'https://www.youtube.com/watch?v=tfvJny0ZJi8',\n",
       " 'https://www.youtube.com/watch?v=DE5n5qz7104',\n",
       " 'https://www.youtube.com/watch?v=9sASnwpBHkk',\n",
       " 'https://www.youtube.com/watch?v=zbseHk5QPk0',\n",
       " 'https://www.youtube.com/watch?v=1dQpxoome4Y',\n",
       " 'https://www.youtube.com/watch?v=Dz8-31zPVFQ',\n",
       " 'https://www.youtube.com/watch?v=sPOX6uIiRYQ',\n",
       " 'https://www.youtube.com/watch?v=d-eWPT74zXY',\n",
       " 'https://www.youtube.com/watch?v=nb4jPV_oXLE',\n",
       " 'https://www.youtube.com/watch?v=nb4jPV_oXLE',\n",
       " 'https://www.youtube.com/watch?v=hbmLczYGvJk']"
      ]
     },
     "execution_count": 53,
     "metadata": {},
     "output_type": "execute_result"
    }
   ],
   "source": [
    "youtube_links"
   ]
  },
  {
   "cell_type": "code",
   "execution_count": 54,
   "id": "03a69062-b6a3-436f-9109-3d4b7b01fa7d",
   "metadata": {},
   "outputs": [],
   "source": [
    "result = {\"youtube_title\":youtube_titles,\"youtube_link\":youtube_links}"
   ]
  },
  {
   "cell_type": "code",
   "execution_count": 55,
   "id": "11c30a94-b9bb-4047-b1ae-84c4eefdd798",
   "metadata": {},
   "outputs": [],
   "source": [
    "df = pd.DataFrame(result)"
   ]
  },
  {
   "cell_type": "code",
   "execution_count": 56,
   "id": "27fad71d-e9a9-4b07-bd46-85281308046d",
   "metadata": {},
   "outputs": [
    {
     "data": {
      "text/html": [
       "<div>\n",
       "<style scoped>\n",
       "    .dataframe tbody tr th:only-of-type {\n",
       "        vertical-align: middle;\n",
       "    }\n",
       "\n",
       "    .dataframe tbody tr th {\n",
       "        vertical-align: top;\n",
       "    }\n",
       "\n",
       "    .dataframe thead th {\n",
       "        text-align: right;\n",
       "    }\n",
       "</style>\n",
       "<table border=\"1\" class=\"dataframe\">\n",
       "  <thead>\n",
       "    <tr style=\"text-align: right;\">\n",
       "      <th></th>\n",
       "      <th>youtube_title</th>\n",
       "      <th>youtube_link</th>\n",
       "    </tr>\n",
       "  </thead>\n",
       "  <tbody>\n",
       "    <tr>\n",
       "      <th>0</th>\n",
       "      <td>Python超入門コース#01 Pythonのコース紹介</td>\n",
       "      <td>https://www.youtube.com/watch?v=3jymAyMJjR8</td>\n",
       "    </tr>\n",
       "    <tr>\n",
       "      <th>1</th>\n",
       "      <td>Python超入門コース#02 Pythonとは？</td>\n",
       "      <td>https://www.youtube.com/watch?v=vfd80_TBM7U</td>\n",
       "    </tr>\n",
       "    <tr>\n",
       "      <th>2</th>\n",
       "      <td>Python超入門コース#03 環境構築</td>\n",
       "      <td>https://www.youtube.com/watch?v=qbpvBr71h9U</td>\n",
       "    </tr>\n",
       "    <tr>\n",
       "      <th>3</th>\n",
       "      <td>Python超入門コース#04 プログラムの基本構造</td>\n",
       "      <td>https://www.youtube.com/watch?v=tfvJny0ZJi8</td>\n",
       "    </tr>\n",
       "    <tr>\n",
       "      <th>4</th>\n",
       "      <td>Python超入門コース#05 実行</td>\n",
       "      <td>https://www.youtube.com/watch?v=DE5n5qz7104</td>\n",
       "    </tr>\n",
       "    <tr>\n",
       "      <th>5</th>\n",
       "      <td>Python超入門コース#06 変数</td>\n",
       "      <td>https://www.youtube.com/watch?v=9sASnwpBHkk</td>\n",
       "    </tr>\n",
       "    <tr>\n",
       "      <th>6</th>\n",
       "      <td>Python超入門コース#07 データ型</td>\n",
       "      <td>https://www.youtube.com/watch?v=zbseHk5QPk0</td>\n",
       "    </tr>\n",
       "    <tr>\n",
       "      <th>7</th>\n",
       "      <td>Python超入門コース#08 リスト</td>\n",
       "      <td>https://www.youtube.com/watch?v=1dQpxoome4Y</td>\n",
       "    </tr>\n",
       "    <tr>\n",
       "      <th>8</th>\n",
       "      <td>python超入門コース#09 演算子</td>\n",
       "      <td>https://www.youtube.com/watch?v=Dz8-31zPVFQ</td>\n",
       "    </tr>\n",
       "    <tr>\n",
       "      <th>9</th>\n",
       "      <td>Python超入門コース#10 条件分岐</td>\n",
       "      <td>https://www.youtube.com/watch?v=sPOX6uIiRYQ</td>\n",
       "    </tr>\n",
       "    <tr>\n",
       "      <th>10</th>\n",
       "      <td>Python超入門コース#11 反復</td>\n",
       "      <td>https://www.youtube.com/watch?v=d-eWPT74zXY</td>\n",
       "    </tr>\n",
       "    <tr>\n",
       "      <th>11</th>\n",
       "      <td>Python超入門コース#12 関数</td>\n",
       "      <td>https://www.youtube.com/watch?v=nb4jPV_oXLE</td>\n",
       "    </tr>\n",
       "    <tr>\n",
       "      <th>12</th>\n",
       "      <td>Python超入門コース#13 クラス</td>\n",
       "      <td>https://www.youtube.com/watch?v=nb4jPV_oXLE</td>\n",
       "    </tr>\n",
       "    <tr>\n",
       "      <th>13</th>\n",
       "      <td>Python超入門コース#14 実践</td>\n",
       "      <td>https://www.youtube.com/watch?v=hbmLczYGvJk</td>\n",
       "    </tr>\n",
       "  </tbody>\n",
       "</table>\n",
       "</div>"
      ],
      "text/plain": [
       "                    youtube_title                                 youtube_link\n",
       "0    Python超入門コース#01 Pythonのコース紹介  https://www.youtube.com/watch?v=3jymAyMJjR8\n",
       "1       Python超入門コース#02 Pythonとは？  https://www.youtube.com/watch?v=vfd80_TBM7U\n",
       "2            Python超入門コース#03 環境構築  https://www.youtube.com/watch?v=qbpvBr71h9U\n",
       "3      Python超入門コース#04 プログラムの基本構造  https://www.youtube.com/watch?v=tfvJny0ZJi8\n",
       "4              Python超入門コース#05 実行  https://www.youtube.com/watch?v=DE5n5qz7104\n",
       "5              Python超入門コース#06 変数  https://www.youtube.com/watch?v=9sASnwpBHkk\n",
       "6            Python超入門コース#07 データ型  https://www.youtube.com/watch?v=zbseHk5QPk0\n",
       "7             Python超入門コース#08 リスト  https://www.youtube.com/watch?v=1dQpxoome4Y\n",
       "8             python超入門コース#09 演算子  https://www.youtube.com/watch?v=Dz8-31zPVFQ\n",
       "9            Python超入門コース#10 条件分岐  https://www.youtube.com/watch?v=sPOX6uIiRYQ\n",
       "10             Python超入門コース#11 反復  https://www.youtube.com/watch?v=d-eWPT74zXY\n",
       "11             Python超入門コース#12 関数  https://www.youtube.com/watch?v=nb4jPV_oXLE\n",
       "12            Python超入門コース#13 クラス  https://www.youtube.com/watch?v=nb4jPV_oXLE\n",
       "13             Python超入門コース#14 実践  https://www.youtube.com/watch?v=hbmLczYGvJk"
      ]
     },
     "execution_count": 56,
     "metadata": {},
     "output_type": "execute_result"
    }
   ],
   "source": [
    "df"
   ]
  },
  {
   "cell_type": "code",
   "execution_count": 57,
   "id": "ee1071ea-e824-418b-b523-a68abc424cce",
   "metadata": {},
   "outputs": [],
   "source": [
    "df.to_csv(\"result.csv\", index = False, encoding = \"utf-8\")"
   ]
  },
  {
   "cell_type": "code",
   "execution_count": null,
   "id": "f25a8da7-7e41-4e8d-bd41-648534ac1ce2",
   "metadata": {},
   "outputs": [],
   "source": []
  }
 ],
 "metadata": {
  "kernelspec": {
   "display_name": "Python 3 (ipykernel)",
   "language": "python",
   "name": "python3"
  },
  "language_info": {
   "codemirror_mode": {
    "name": "ipython",
    "version": 3
   },
   "file_extension": ".py",
   "mimetype": "text/x-python",
   "name": "python",
   "nbconvert_exporter": "python",
   "pygments_lexer": "ipython3",
   "version": "3.9.13"
  }
 },
 "nbformat": 4,
 "nbformat_minor": 5
}
