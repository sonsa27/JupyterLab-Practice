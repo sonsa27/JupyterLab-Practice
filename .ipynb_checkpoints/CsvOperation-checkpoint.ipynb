{
 "cells": [
  {
   "cell_type": "code",
   "execution_count": 1,
   "id": "49a193a3-5513-4f12-8952-ca57ca7c3bcf",
   "metadata": {},
   "outputs": [],
   "source": [
    "import pandas as pd"
   ]
  },
  {
   "cell_type": "code",
   "execution_count": 2,
   "id": "75aefeeb-f6eb-49c7-aff4-a2938d6b4d83",
   "metadata": {},
   "outputs": [
    {
     "name": "stdout",
     "output_type": "stream",
     "text": [
      "1.4.4\n"
     ]
    }
   ],
   "source": [
    "print(pd.__version__)"
   ]
  },
  {
   "cell_type": "code",
   "execution_count": 3,
   "id": "496a4d41-f666-428c-ab45-cf115d153872",
   "metadata": {},
   "outputs": [],
   "source": [
    "df_test_data = pd.read_csv('CsvFiles/成績一覧表.csv',encoding='utf-8',)"
   ]
  },
  {
   "cell_type": "code",
   "execution_count": 4,
   "id": "bff2cf93-4f65-4aa1-b91d-71bb0d7332ce",
   "metadata": {},
   "outputs": [
    {
     "data": {
      "text/plain": [
       "pandas.core.frame.DataFrame"
      ]
     },
     "execution_count": 4,
     "metadata": {},
     "output_type": "execute_result"
    }
   ],
   "source": [
    "type(df_test_data)"
   ]
  },
  {
   "cell_type": "code",
   "execution_count": 5,
   "id": "1ca8bf01-d462-46df-8b36-860fc5e51ed6",
   "metadata": {},
   "outputs": [],
   "source": [
    "pd.set_option('display.max_rows',5) #最大表示列"
   ]
  },
  {
   "cell_type": "code",
   "execution_count": 44,
   "id": "efc10807-1628-4f3d-aeee-bc2bd2173550",
   "metadata": {},
   "outputs": [],
   "source": [
    "# df_test_data\n",
    "#(データがえぐいほどある時元から省略されるからそう言う時はmax_rowsを拡張でき､全表示できる)"
   ]
  },
  {
   "cell_type": "code",
   "execution_count": 8,
   "id": "33ed0b4a-4977-453d-b1e4-2620c822a3e0",
   "metadata": {},
   "outputs": [],
   "source": [
    "pd.reset_option('display.max_rows') #上でセットしたオプションをリセットする"
   ]
  },
  {
   "cell_type": "code",
   "execution_count": 43,
   "id": "f7ac9587-ee24-4596-82a9-bad868b1d74b",
   "metadata": {},
   "outputs": [],
   "source": [
    "# df_test_data.head()  #デフォルトが５"
   ]
  },
  {
   "cell_type": "code",
   "execution_count": 46,
   "id": "8c13e805-2918-4d9c-8013-033f4661f623",
   "metadata": {},
   "outputs": [],
   "source": [
    "pd.set_option('display.max_rows',50)\n",
    "# df_test_data.head(10)"
   ]
  },
  {
   "cell_type": "code",
   "execution_count": 45,
   "id": "4bdb4f2e-9782-4bb2-9d68-5957da68e81b",
   "metadata": {},
   "outputs": [],
   "source": [
    " # df_test_data.tail(10) #後ろから10行表示"
   ]
  },
  {
   "cell_type": "code",
   "execution_count": 47,
   "id": "c8946e4c-1b6f-4887-8ba5-748d03dfb4ce",
   "metadata": {},
   "outputs": [],
   "source": [
    "a = df_test_data #いちいち書くのめんどいからこっから aでやる\n",
    "# a.sample(10) #ランダムでどこかの10行取ってくる"
   ]
  },
  {
   "cell_type": "code",
   "execution_count": 48,
   "id": "e4e1283d-206e-4fd8-94e2-53df2be6c4cf",
   "metadata": {},
   "outputs": [],
   "source": [
    "# a.info()  #表のカラムごとの情報"
   ]
  },
  {
   "cell_type": "code",
   "execution_count": 49,
   "id": "b4e1c524-e684-4d90-ad46-4d6ef398a9d7",
   "metadata": {},
   "outputs": [],
   "source": [
    "# a.describe()"
   ]
  },
  {
   "cell_type": "code",
   "execution_count": 50,
   "id": "32cbf778-089d-4332-b9f2-dd901e51af98",
   "metadata": {},
   "outputs": [],
   "source": [
    "# a.describe().round(0)"
   ]
  },
  {
   "cell_type": "code",
   "execution_count": 42,
   "id": "163080e9-cf2b-49bb-aebe-8a9862a309d1",
   "metadata": {},
   "outputs": [],
   "source": [
    "a_mean = a.groupby(by='氏名').mean()[['国語','数学','英語','合計']].round(0)\n",
    "#a_mean            #↑で氏名ごとにグループを分け、そのグループの,↑の要素ごとのmean値を表示する"
   ]
  },
  {
   "cell_type": "code",
   "execution_count": 51,
   "id": "76a62e3d-9da2-45d3-a44b-2eb6fba52738",
   "metadata": {},
   "outputs": [],
   "source": [
    "# a_mean.sort_values(by='合計',ascending=False) "
   ]
  },
  {
   "cell_type": "code",
   "execution_count": null,
   "id": "1eb6ce06-e9fa-4c64-9033-5ee1d8ec7cb5",
   "metadata": {},
   "outputs": [],
   "source": []
  },
  {
   "cell_type": "code",
   "execution_count": null,
   "id": "4772ea5e-032c-45b4-90a9-e596de5d6ea0",
   "metadata": {},
   "outputs": [],
   "source": []
  }
 ],
 "metadata": {
  "kernelspec": {
   "display_name": "Python 3 (ipykernel)",
   "language": "python",
   "name": "python3"
  },
  "language_info": {
   "codemirror_mode": {
    "name": "ipython",
    "version": 3
   },
   "file_extension": ".py",
   "mimetype": "text/x-python",
   "name": "python",
   "nbconvert_exporter": "python",
   "pygments_lexer": "ipython3",
   "version": "3.9.13"
  }
 },
 "nbformat": 4,
 "nbformat_minor": 5
}
