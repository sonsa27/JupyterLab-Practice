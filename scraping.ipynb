{
 "cells": [
  {
   "cell_type": "code",
   "execution_count": 1,
   "id": "41b1d123-98bc-41fc-af3b-025246d951af",
   "metadata": {},
   "outputs": [],
   "source": [
    "# !pip3 install selenium"
   ]
  },
  {
   "cell_type": "code",
   "execution_count": 2,
   "id": "62d336b5-edd5-4af8-aa51-b7a16538626b",
   "metadata": {},
   "outputs": [],
   "source": [
    "# !pip3 install beautifulsoup4"
   ]
  },
  {
   "cell_type": "code",
   "execution_count": 10,
   "id": "e9cec166-82e1-4351-bbbb-c246efddf799",
   "metadata": {},
   "outputs": [
    {
     "name": "stdout",
     "output_type": "stream",
     "text": [
      "close\n"
     ]
    }
   ],
   "source": [
    "# browser.close()\n",
    "# print(\"close\")"
   ]
  },
  {
   "cell_type": "code",
   "execution_count": 51,
   "id": "49e1cb9d-7fc6-422b-a344-dce877737e21",
   "metadata": {},
   "outputs": [],
   "source": [
    "from selenium import webdriver\n",
    "import time\n",
    "import pandas as pd\n",
    "from webdriver_manager.chrome import ChromeDriverManager"
   ]
  },
  {
   "cell_type": "code",
   "execution_count": 4,
   "id": "a29531b7-2e3e-4b06-8132-183de3a113e4",
   "metadata": {},
   "outputs": [],
   "source": [
    "USER = \"test_user\"\n",
    "PASS = \"test_pw\""
   ]
  },
  {
   "cell_type": "code",
   "execution_count": 5,
   "id": "3e1239b7-0aa3-4246-8e02-0f3848a6b216",
   "metadata": {},
   "outputs": [
    {
     "name": "stderr",
     "output_type": "stream",
     "text": [
      "/var/folders/gs/q8j912890dvc_47yy8j49gkh0000gn/T/ipykernel_20096/242306559.py:1: DeprecationWarning: executable_path has been deprecated, please pass in a Service object\n",
      "  browser = webdriver.Chrome(executable_path=\"/Users/songsa/Downloads/chromedriver 4\")\n"
     ]
    }
   ],
   "source": [
    "browser = webdriver.Chrome(executable_path=\"/Users/songsa/Downloads/chromedriver 4\")\n",
    "browser.implicitly_wait(3)"
   ]
  },
  {
   "cell_type": "code",
   "execution_count": 6,
   "id": "ccddc95f-3366-4d80-b707-3ce08129f4dc",
   "metadata": {},
   "outputs": [
    {
     "name": "stdout",
     "output_type": "stream",
     "text": [
      "ログインページアクセス完了\n"
     ]
    }
   ],
   "source": [
    "url_login = \"https://kino-code.work/mypage/membership-login\"\n",
    "browser.get(url_login)\n",
    "time.sleep(1)\n",
    "print(\"ログインページアクセス完了\")"
   ]
  },
  {
   "cell_type": "code",
   "execution_count": 7,
   "id": "2aacd333-f9c5-4665-bcbc-98c9ade595ea",
   "metadata": {},
   "outputs": [
    {
     "name": "stderr",
     "output_type": "stream",
     "text": [
      "/var/folders/gs/q8j912890dvc_47yy8j49gkh0000gn/T/ipykernel_20096/1218391954.py:1: DeprecationWarning: find_element_by_* commands are deprecated. Please use find_element() instead\n",
      "  element = browser.find_element_by_id(\"swpm_user_name\")\n",
      "/var/folders/gs/q8j912890dvc_47yy8j49gkh0000gn/T/ipykernel_20096/1218391954.py:4: DeprecationWarning: find_element_by_* commands are deprecated. Please use find_element() instead\n",
      "  element = browser.find_element_by_id(\"swpm_password\")\n",
      "/var/folders/gs/q8j912890dvc_47yy8j49gkh0000gn/T/ipykernel_20096/1218391954.py:8: DeprecationWarning: find_element_by_* commands are deprecated. Please use find_element() instead\n",
      "  login_form = browser.find_element_by_class_name(\"swpm-login-form-submit\")\n"
     ]
    },
    {
     "name": "stdout",
     "output_type": "stream",
     "text": [
      "ログインボタンが押されました\n"
     ]
    }
   ],
   "source": [
    "element = browser.find_element_by_id(\"swpm_user_name\")\n",
    "element.clear()\n",
    "element.send_keys(USER)\n",
    "element = browser.find_element_by_id(\"swpm_password\")\n",
    "element.clear()\n",
    "element.send_keys(PASS)\n",
    "\n",
    "login_form = browser.find_element_by_class_name(\"swpm-login-form-submit\")\n",
    "time.sleep(1)\n",
    "login_form.click()\n",
    "print(\"ログインボタンが押されました\")"
   ]
  },
  {
   "cell_type": "code",
   "execution_count": 8,
   "id": "67813055-463a-468b-a4c3-65078b1172d8",
   "metadata": {},
   "outputs": [
    {
     "name": "stdout",
     "output_type": "stream",
     "text": [
      "https://kino-code.work/member-only/ アクセス完了\n"
     ]
    }
   ],
   "source": [
    "url=\"https://kino-code.work/member-only/\"\n",
    "time.sleep(3)\n",
    "browser.get(url)\n",
    "print(url,\"アクセス完了\")"
   ]
  },
  {
   "cell_type": "code",
   "execution_count": 9,
   "id": "6bf7d96f-9ed0-488a-8ec2-d4cd60b9b14f",
   "metadata": {},
   "outputs": [
    {
     "name": "stderr",
     "output_type": "stream",
     "text": [
      "/var/folders/gs/q8j912890dvc_47yy8j49gkh0000gn/T/ipykernel_20096/4273505842.py:1: DeprecationWarning: find_element_by_* commands are deprecated. Please use find_element() instead\n",
      "  frm = browser.find_element_by_xpath(\"/html/body/div/div[3]/div/div/aside[1]/form/input\")\n"
     ]
    }
   ],
   "source": [
    "frm = browser.find_element_by_xpath(\"/html/body/div/div[3]/div/div/aside[1]/form/input\")\n",
    "frm.clear()\n",
    "frm.send_keys(\"python\")"
   ]
  },
  {
   "cell_type": "code",
   "execution_count": 3,
   "id": "c67c1b59-9830-4e39-bb84-f34c8a3fc28e",
   "metadata": {},
   "outputs": [],
   "source": [
    "from bs4 import BeautifulSoup\n",
    "import urllib.request as req"
   ]
  },
  {
   "cell_type": "code",
   "execution_count": 8,
   "id": "7422e67b-e11d-4b00-af22-a3cbf9e03ee9",
   "metadata": {},
   "outputs": [],
   "source": [
    "html = \"\"\"\n",
    "<html>\n",
    "    <head>\n",
    "        <meta charset=\"utf-8\">\n",
    "        <title>キノコード</title>\n",
    "    </head>\n",
    "    <body>\n",
    "        <h1>こんにちは</h1>\n",
    "    </body>\n",
    "</html>\n",
    "\"\"\""
   ]
  },
  {
   "cell_type": "code",
   "execution_count": 9,
   "id": "9c72f92d-7912-43ec-b2fc-60a8bd5df879",
   "metadata": {},
   "outputs": [
    {
     "data": {
      "text/plain": [
       "'\\n<html>\\n    <head>\\n        <meta charset=\"utf-8\">\\n        <title>キノコード</title>\\n    </head>\\n    <body>\\n        <h1>こんにちは</h1>\\n    </body>\\n</html>\\n'"
      ]
     },
     "execution_count": 9,
     "metadata": {},
     "output_type": "execute_result"
    }
   ],
   "source": [
    "html"
   ]
  },
  {
   "cell_type": "code",
   "execution_count": 10,
   "id": "9868deb0-aed0-4e12-838b-f4e302ce3fcc",
   "metadata": {},
   "outputs": [],
   "source": [
    "parse_html = BeautifulSoup(html,\"html.parser\")"
   ]
  },
  {
   "cell_type": "code",
   "execution_count": 11,
   "id": "fc62c5bf-aecd-45c7-bce2-ad75e7b0e239",
   "metadata": {},
   "outputs": [
    {
     "name": "stdout",
     "output_type": "stream",
     "text": [
      "\n",
      "<html>\n",
      "<head>\n",
      "<meta charset=\"utf-8\"/>\n",
      "<title>キノコード</title>\n",
      "</head>\n",
      "<body>\n",
      "<h1>こんにちは</h1>\n",
      "</body>\n",
      "</html>\n",
      "\n"
     ]
    }
   ],
   "source": [
    "print(parse_html)"
   ]
  },
  {
   "cell_type": "code",
   "execution_count": 12,
   "id": "af295a0d-0bc9-4abd-94ae-fa385e610b7f",
   "metadata": {},
   "outputs": [
    {
     "name": "stdout",
     "output_type": "stream",
     "text": [
      "<html>\n",
      " <head>\n",
      "  <meta charset=\"utf-8\"/>\n",
      "  <title>\n",
      "   キノコード\n",
      "  </title>\n",
      " </head>\n",
      " <body>\n",
      "  <h1>\n",
      "   こんにちは\n",
      "  </h1>\n",
      " </body>\n",
      "</html>\n",
      "\n"
     ]
    }
   ],
   "source": [
    "print(parse_html.prettify())"
   ]
  },
  {
   "cell_type": "code",
   "execution_count": 22,
   "id": "8dd19e69-a479-496a-bfff-7d3785c3146c",
   "metadata": {},
   "outputs": [],
   "source": [
    "url = \"https://kino-code.work/python-scraping/\"\n",
    "response = req.urlopen(url)"
   ]
  },
  {
   "cell_type": "code",
   "execution_count": 23,
   "id": "e1e4ebba-0afc-4ee1-81a6-ce543a436623",
   "metadata": {},
   "outputs": [],
   "source": [
    "parse_html = BeautifulSoup(response,'html.parser')"
   ]
  },
  {
   "cell_type": "code",
   "execution_count": 29,
   "id": "7daedf06-1d30-4878-b9e0-66ad73d1d27c",
   "metadata": {},
   "outputs": [],
   "source": [
    "# parse_html"
   ]
  },
  {
   "cell_type": "code",
   "execution_count": 26,
   "id": "99cf8258-d7cf-4b09-aed2-eac7f21c3047",
   "metadata": {},
   "outputs": [
    {
     "name": "stdout",
     "output_type": "stream",
     "text": [
      "<title>Python超入門コース(テスト) | KinoCodeWork</title>\n"
     ]
    }
   ],
   "source": [
    "print(parse_html.title)"
   ]
  },
  {
   "cell_type": "code",
   "execution_count": 35,
   "id": "f38a914d-eada-490e-b839-484fc3c1b47b",
   "metadata": {},
   "outputs": [
    {
     "name": "stdout",
     "output_type": "stream",
     "text": [
      "Python超入門コース(テスト) | KinoCodeWork\n"
     ]
    }
   ],
   "source": [
    "print(parse_html.title.string)"
   ]
  },
  {
   "cell_type": "code",
   "execution_count": 31,
   "id": "7d15a18b-980b-407b-a87a-fe7eff9370ee",
   "metadata": {},
   "outputs": [
    {
     "name": "stdout",
     "output_type": "stream",
     "text": [
      "[<a class=\"site-name site-name-text-link\" href=\"https://kino-code.work/\" itemprop=\"url\"><span class=\"site-name-text\" itemprop=\"name about\"><img alt=\"KinoCodeWork\" class=\"site-logo-image header-site-logo-image\" height=\"100\" src=\"http://kino-code.work/wp-content/uploads/2019/07/logo-1.png\" width=\"535\"/></span></a>, <a href=\"https://kino-code.work\" itemprop=\"item\"><span class=\"breadcrumb-caption\" itemprop=\"name\">ホーム</span></a>, <a href=\"https://kino-code.work/course-python01-course-introduction/\">Python超入門コース#01 Pythonのコース紹介</a>, <a href=\"https://kino-code.work/course-python02-what-python/\">Python超入門コース#02 Pythonとは？</a>, <a href=\"https://kino-code.work/course-python03-environment/\">Python超入門コース#03 環境構築 for Mac</a>, <a href=\"https://kino-code.work/course-python04-basic-structure/\">Python超入門コース#04 プログラムの基本構造</a>, <a href=\"https://kino-code.work/course-python05-runtime/\">Python超入門コース#05 実行</a>, <a href=\"https://kino-code.work/course-python06-variable/\">Python超入門コース#06 変数</a>, <a href=\"https://kino-code.work/course-python07-data-type/\">Python超入門コース#07 データ型</a>, <a href=\"https://kino-code.work/coruse-python08-list/\">Python超入門コース#08 リスト</a>, <a href=\"https://kino-code.work/course-python09-operator/\">Python超入門コース#09 演算子</a>, <a href=\"https://kino-code.work/course-python10-conditional-branch/\">Python超入門コース#10 条件分岐</a>, <a href=\"https://kino-code.work/course-python11-repetition/\">Python超入門コース#11 反復</a>, <a href=\"https://kino-code.work/course-python12-function/\">Python超入門コース#12 関数</a>, <a href=\"https://kino-code.work/course-python13-class/\">Python超入門コース#13 クラス</a>, <a href=\"https://kino-code.work/course-python14-practice/\">Python超入門コース#14 実践</a>, <a class=\"author-link\" href=\"https://kino-code.work/author/kino_tsurayasu/\"><span class=\"post-author vcard author\" itemprop=\"editor author creator copyrightHolder\" itemscope=\"\" itemtype=\"https://schema.org/Person\"><span class=\"author-name fn\" itemprop=\"name\">キノコード</span></span></a>, <a href=\"https://kino-code.work/course-php02-what-php/\">PHP超入門コース#02 PHPとは？</a>, <a href=\"https://kino-code.work/course-php01-course-introduction-2/\">PHP超入門コース＃01コース紹介</a>, <a href=\"https://kino-code.work/course-go02-what-go-2/\">Go超入門コース#02 Goとは？</a>, <a href=\"https://kino-code.work/course-go01-what-go/\">Go超入門コース#01 Goのコース紹介</a>, <a href=\"https://kino-code.work/course-go15-practice/\">【Go言語 超入門コース】15.実践｜すべて理解できればGoの超入門者から卒業です【プログラミング初心者向け入門講座】</a>, <a href=\"https://kino-code.work/2021/10/\">2021年10月<span class=\"post-count\">4</span></a>, <a href=\"https://kino-code.work/2020/05/\">2020年5月<span class=\"post-count\">3</span></a>, <a href=\"https://kino-code.work/2020/04/\">2020年4月<span class=\"post-count\">3</span></a>, <a href=\"https://kino-code.work/2020/03/\">2020年3月<span class=\"post-count\">2</span></a>, <a href=\"https://kino-code.work/2020/02/\">2020年2月<span class=\"post-count\">4</span></a>, <a href=\"https://kino-code.work/2020/01/\">2020年1月<span class=\"post-count\">24</span></a>, <a class=\"site-name site-name-text-link\" href=\"https://kino-code.work/\" itemprop=\"url\"><span class=\"site-name-text\" itemprop=\"name about\"><img alt=\"KinoCodeWork\" class=\"site-logo-image footer-site-logo-image\" src=\"http://kino-code.work/wp-content/uploads/2019/07/logo-1.png\"/></span></a>]\n"
     ]
    }
   ],
   "source": [
    "print(parse_html.find_all(\"a\"))"
   ]
  },
  {
   "cell_type": "code",
   "execution_count": 36,
   "id": "fa9b6f19-245d-4f18-9a26-4d0d53b38fa3",
   "metadata": {},
   "outputs": [],
   "source": [
    "title_lists = parse_html.find_all(\"a\")"
   ]
  },
  {
   "cell_type": "code",
   "execution_count": 37,
   "id": "895bb253-7264-4d00-b364-7d1857eb5da9",
   "metadata": {},
   "outputs": [
    {
     "data": {
      "text/plain": [
       "[<a href=\"https://kino-code.work\" itemprop=\"item\"><span class=\"breadcrumb-caption\" itemprop=\"name\">ホーム</span></a>,\n",
       " <a href=\"https://kino-code.work/course-python01-course-introduction/\">Python超入門コース#01 Pythonのコース紹介</a>,\n",
       " <a href=\"https://kino-code.work/course-python02-what-python/\">Python超入門コース#02 Pythonとは？</a>,\n",
       " <a href=\"https://kino-code.work/course-python03-environment/\">Python超入門コース#03 環境構築 for Mac</a>,\n",
       " <a href=\"https://kino-code.work/course-python04-basic-structure/\">Python超入門コース#04 プログラムの基本構造</a>,\n",
       " <a href=\"https://kino-code.work/course-python05-runtime/\">Python超入門コース#05 実行</a>,\n",
       " <a href=\"https://kino-code.work/course-python06-variable/\">Python超入門コース#06 変数</a>,\n",
       " <a href=\"https://kino-code.work/course-python07-data-type/\">Python超入門コース#07 データ型</a>,\n",
       " <a href=\"https://kino-code.work/coruse-python08-list/\">Python超入門コース#08 リスト</a>]"
      ]
     },
     "execution_count": 37,
     "metadata": {},
     "output_type": "execute_result"
    }
   ],
   "source": [
    "title_lists[1:10]"
   ]
  },
  {
   "cell_type": "code",
   "execution_count": 44,
   "id": "a7f2290e-9a47-4b33-a242-832b72fbe80e",
   "metadata": {},
   "outputs": [
    {
     "name": "stdout",
     "output_type": "stream",
     "text": [
      "Python超入門コース#01 Pythonのコース紹介\n"
     ]
    }
   ],
   "source": [
    "print(title_lists[2].string)"
   ]
  },
  {
   "cell_type": "code",
   "execution_count": 45,
   "id": "f43d8690-b045-4368-b2f8-fa9610b43ae2",
   "metadata": {},
   "outputs": [
    {
     "data": {
      "text/plain": [
       "'https://kino-code.work/course-python01-course-introduction/'"
      ]
     },
     "execution_count": 45,
     "metadata": {},
     "output_type": "execute_result"
    }
   ],
   "source": [
    "title_lists[2].attrs[\"href\"]"
   ]
  },
  {
   "cell_type": "code",
   "execution_count": 47,
   "id": "cb75e422-e8cb-468e-9c10-0da183cb3794",
   "metadata": {},
   "outputs": [],
   "source": [
    "title_list = []\n",
    "url_list = []\n",
    "\n",
    "for i in title_lists:\n",
    "    title_list.append(i.string)\n",
    "    url_list.append(i.attrs[\"href\"])"
   ]
  },
  {
   "cell_type": "code",
   "execution_count": 48,
   "id": "9b017a8e-e172-4054-b3d2-1a44c53e3242",
   "metadata": {},
   "outputs": [
    {
     "data": {
      "text/plain": [
       "[None,\n",
       " 'ホーム',\n",
       " 'Python超入門コース#01 Pythonのコース紹介',\n",
       " 'Python超入門コース#02 Pythonとは？',\n",
       " 'Python超入門コース#03 環境構築 for Mac',\n",
       " 'Python超入門コース#04 プログラムの基本構造',\n",
       " 'Python超入門コース#05 実行',\n",
       " 'Python超入門コース#06 変数',\n",
       " 'Python超入門コース#07 データ型',\n",
       " 'Python超入門コース#08 リスト',\n",
       " 'Python超入門コース#09 演算子',\n",
       " 'Python超入門コース#10 条件分岐',\n",
       " 'Python超入門コース#11 反復',\n",
       " 'Python超入門コース#12 関数',\n",
       " 'Python超入門コース#13 クラス',\n",
       " 'Python超入門コース#14 実践',\n",
       " 'キノコード',\n",
       " 'PHP超入門コース#02 PHPとは？',\n",
       " 'PHP超入門コース＃01コース紹介',\n",
       " 'Go超入門コース#02 Goとは？',\n",
       " 'Go超入門コース#01 Goのコース紹介',\n",
       " '【Go言語 超入門コース】15.実践｜すべて理解できればGoの超入門者から卒業です【プログラミング初心者向け入門講座】',\n",
       " None,\n",
       " None,\n",
       " None,\n",
       " None,\n",
       " None,\n",
       " None,\n",
       " None]"
      ]
     },
     "execution_count": 48,
     "metadata": {},
     "output_type": "execute_result"
    }
   ],
   "source": [
    "title_list"
   ]
  },
  {
   "cell_type": "code",
   "execution_count": 49,
   "id": "3170d612-de17-4df2-b9f1-7be9662c1594",
   "metadata": {},
   "outputs": [
    {
     "data": {
      "text/plain": [
       "['https://kino-code.work/',\n",
       " 'https://kino-code.work',\n",
       " 'https://kino-code.work/course-python01-course-introduction/',\n",
       " 'https://kino-code.work/course-python02-what-python/',\n",
       " 'https://kino-code.work/course-python03-environment/',\n",
       " 'https://kino-code.work/course-python04-basic-structure/',\n",
       " 'https://kino-code.work/course-python05-runtime/',\n",
       " 'https://kino-code.work/course-python06-variable/',\n",
       " 'https://kino-code.work/course-python07-data-type/',\n",
       " 'https://kino-code.work/coruse-python08-list/',\n",
       " 'https://kino-code.work/course-python09-operator/',\n",
       " 'https://kino-code.work/course-python10-conditional-branch/',\n",
       " 'https://kino-code.work/course-python11-repetition/',\n",
       " 'https://kino-code.work/course-python12-function/',\n",
       " 'https://kino-code.work/course-python13-class/',\n",
       " 'https://kino-code.work/course-python14-practice/',\n",
       " 'https://kino-code.work/author/kino_tsurayasu/',\n",
       " 'https://kino-code.work/course-php02-what-php/',\n",
       " 'https://kino-code.work/course-php01-course-introduction-2/',\n",
       " 'https://kino-code.work/course-go02-what-go-2/',\n",
       " 'https://kino-code.work/course-go01-what-go/',\n",
       " 'https://kino-code.work/course-go15-practice/',\n",
       " 'https://kino-code.work/2021/10/',\n",
       " 'https://kino-code.work/2020/05/',\n",
       " 'https://kino-code.work/2020/04/',\n",
       " 'https://kino-code.work/2020/03/',\n",
       " 'https://kino-code.work/2020/02/',\n",
       " 'https://kino-code.work/2020/01/',\n",
       " 'https://kino-code.work/']"
      ]
     },
     "execution_count": 49,
     "metadata": {},
     "output_type": "execute_result"
    }
   ],
   "source": [
    "url_list"
   ]
  },
  {
   "cell_type": "code",
   "execution_count": 52,
   "id": "8acbd304-d859-4e6f-ac2f-9b0b04d14358",
   "metadata": {},
   "outputs": [],
   "source": [
    "df_title_url = pd.DataFrame({\"Title\":title_list,\"Url\":url_list})"
   ]
  },
  {
   "cell_type": "code",
   "execution_count": 53,
   "id": "296467e0-8380-4a96-8fbc-1990f12389f1",
   "metadata": {},
   "outputs": [
    {
     "data": {
      "text/html": [
       "<div>\n",
       "<style scoped>\n",
       "    .dataframe tbody tr th:only-of-type {\n",
       "        vertical-align: middle;\n",
       "    }\n",
       "\n",
       "    .dataframe tbody tr th {\n",
       "        vertical-align: top;\n",
       "    }\n",
       "\n",
       "    .dataframe thead th {\n",
       "        text-align: right;\n",
       "    }\n",
       "</style>\n",
       "<table border=\"1\" class=\"dataframe\">\n",
       "  <thead>\n",
       "    <tr style=\"text-align: right;\">\n",
       "      <th></th>\n",
       "      <th>Title</th>\n",
       "      <th>Url</th>\n",
       "    </tr>\n",
       "  </thead>\n",
       "  <tbody>\n",
       "    <tr>\n",
       "      <th>0</th>\n",
       "      <td>None</td>\n",
       "      <td>https://kino-code.work/</td>\n",
       "    </tr>\n",
       "    <tr>\n",
       "      <th>1</th>\n",
       "      <td>ホーム</td>\n",
       "      <td>https://kino-code.work</td>\n",
       "    </tr>\n",
       "    <tr>\n",
       "      <th>2</th>\n",
       "      <td>Python超入門コース#01 Pythonのコース紹介</td>\n",
       "      <td>https://kino-code.work/course-python01-course-...</td>\n",
       "    </tr>\n",
       "    <tr>\n",
       "      <th>3</th>\n",
       "      <td>Python超入門コース#02 Pythonとは？</td>\n",
       "      <td>https://kino-code.work/course-python02-what-py...</td>\n",
       "    </tr>\n",
       "    <tr>\n",
       "      <th>4</th>\n",
       "      <td>Python超入門コース#03 環境構築 for Mac</td>\n",
       "      <td>https://kino-code.work/course-python03-environ...</td>\n",
       "    </tr>\n",
       "    <tr>\n",
       "      <th>5</th>\n",
       "      <td>Python超入門コース#04 プログラムの基本構造</td>\n",
       "      <td>https://kino-code.work/course-python04-basic-s...</td>\n",
       "    </tr>\n",
       "    <tr>\n",
       "      <th>6</th>\n",
       "      <td>Python超入門コース#05 実行</td>\n",
       "      <td>https://kino-code.work/course-python05-runtime/</td>\n",
       "    </tr>\n",
       "    <tr>\n",
       "      <th>7</th>\n",
       "      <td>Python超入門コース#06 変数</td>\n",
       "      <td>https://kino-code.work/course-python06-variable/</td>\n",
       "    </tr>\n",
       "    <tr>\n",
       "      <th>8</th>\n",
       "      <td>Python超入門コース#07 データ型</td>\n",
       "      <td>https://kino-code.work/course-python07-data-type/</td>\n",
       "    </tr>\n",
       "    <tr>\n",
       "      <th>9</th>\n",
       "      <td>Python超入門コース#08 リスト</td>\n",
       "      <td>https://kino-code.work/coruse-python08-list/</td>\n",
       "    </tr>\n",
       "    <tr>\n",
       "      <th>10</th>\n",
       "      <td>Python超入門コース#09 演算子</td>\n",
       "      <td>https://kino-code.work/course-python09-operator/</td>\n",
       "    </tr>\n",
       "    <tr>\n",
       "      <th>11</th>\n",
       "      <td>Python超入門コース#10 条件分岐</td>\n",
       "      <td>https://kino-code.work/course-python10-conditi...</td>\n",
       "    </tr>\n",
       "    <tr>\n",
       "      <th>12</th>\n",
       "      <td>Python超入門コース#11 反復</td>\n",
       "      <td>https://kino-code.work/course-python11-repetit...</td>\n",
       "    </tr>\n",
       "    <tr>\n",
       "      <th>13</th>\n",
       "      <td>Python超入門コース#12 関数</td>\n",
       "      <td>https://kino-code.work/course-python12-function/</td>\n",
       "    </tr>\n",
       "    <tr>\n",
       "      <th>14</th>\n",
       "      <td>Python超入門コース#13 クラス</td>\n",
       "      <td>https://kino-code.work/course-python13-class/</td>\n",
       "    </tr>\n",
       "    <tr>\n",
       "      <th>15</th>\n",
       "      <td>Python超入門コース#14 実践</td>\n",
       "      <td>https://kino-code.work/course-python14-practice/</td>\n",
       "    </tr>\n",
       "    <tr>\n",
       "      <th>16</th>\n",
       "      <td>キノコード</td>\n",
       "      <td>https://kino-code.work/author/kino_tsurayasu/</td>\n",
       "    </tr>\n",
       "    <tr>\n",
       "      <th>17</th>\n",
       "      <td>PHP超入門コース#02 PHPとは？</td>\n",
       "      <td>https://kino-code.work/course-php02-what-php/</td>\n",
       "    </tr>\n",
       "    <tr>\n",
       "      <th>18</th>\n",
       "      <td>PHP超入門コース＃01コース紹介</td>\n",
       "      <td>https://kino-code.work/course-php01-course-int...</td>\n",
       "    </tr>\n",
       "    <tr>\n",
       "      <th>19</th>\n",
       "      <td>Go超入門コース#02 Goとは？</td>\n",
       "      <td>https://kino-code.work/course-go02-what-go-2/</td>\n",
       "    </tr>\n",
       "    <tr>\n",
       "      <th>20</th>\n",
       "      <td>Go超入門コース#01 Goのコース紹介</td>\n",
       "      <td>https://kino-code.work/course-go01-what-go/</td>\n",
       "    </tr>\n",
       "    <tr>\n",
       "      <th>21</th>\n",
       "      <td>【Go言語 超入門コース】15.実践｜すべて理解できればGoの超入門者から卒業です【プログラ...</td>\n",
       "      <td>https://kino-code.work/course-go15-practice/</td>\n",
       "    </tr>\n",
       "    <tr>\n",
       "      <th>22</th>\n",
       "      <td>None</td>\n",
       "      <td>https://kino-code.work/2021/10/</td>\n",
       "    </tr>\n",
       "    <tr>\n",
       "      <th>23</th>\n",
       "      <td>None</td>\n",
       "      <td>https://kino-code.work/2020/05/</td>\n",
       "    </tr>\n",
       "    <tr>\n",
       "      <th>24</th>\n",
       "      <td>None</td>\n",
       "      <td>https://kino-code.work/2020/04/</td>\n",
       "    </tr>\n",
       "    <tr>\n",
       "      <th>25</th>\n",
       "      <td>None</td>\n",
       "      <td>https://kino-code.work/2020/03/</td>\n",
       "    </tr>\n",
       "    <tr>\n",
       "      <th>26</th>\n",
       "      <td>None</td>\n",
       "      <td>https://kino-code.work/2020/02/</td>\n",
       "    </tr>\n",
       "    <tr>\n",
       "      <th>27</th>\n",
       "      <td>None</td>\n",
       "      <td>https://kino-code.work/2020/01/</td>\n",
       "    </tr>\n",
       "    <tr>\n",
       "      <th>28</th>\n",
       "      <td>None</td>\n",
       "      <td>https://kino-code.work/</td>\n",
       "    </tr>\n",
       "  </tbody>\n",
       "</table>\n",
       "</div>"
      ],
      "text/plain": [
       "                                                Title  \\\n",
       "0                                                None   \n",
       "1                                                 ホーム   \n",
       "2                        Python超入門コース#01 Pythonのコース紹介   \n",
       "3                           Python超入門コース#02 Pythonとは？   \n",
       "4                        Python超入門コース#03 環境構築 for Mac   \n",
       "5                          Python超入門コース#04 プログラムの基本構造   \n",
       "6                                  Python超入門コース#05 実行   \n",
       "7                                  Python超入門コース#06 変数   \n",
       "8                                Python超入門コース#07 データ型   \n",
       "9                                 Python超入門コース#08 リスト   \n",
       "10                                Python超入門コース#09 演算子   \n",
       "11                               Python超入門コース#10 条件分岐   \n",
       "12                                 Python超入門コース#11 反復   \n",
       "13                                 Python超入門コース#12 関数   \n",
       "14                                Python超入門コース#13 クラス   \n",
       "15                                 Python超入門コース#14 実践   \n",
       "16                                              キノコード   \n",
       "17                                PHP超入門コース#02 PHPとは？   \n",
       "18                                  PHP超入門コース＃01コース紹介   \n",
       "19                                  Go超入門コース#02 Goとは？   \n",
       "20                               Go超入門コース#01 Goのコース紹介   \n",
       "21  【Go言語 超入門コース】15.実践｜すべて理解できればGoの超入門者から卒業です【プログラ...   \n",
       "22                                               None   \n",
       "23                                               None   \n",
       "24                                               None   \n",
       "25                                               None   \n",
       "26                                               None   \n",
       "27                                               None   \n",
       "28                                               None   \n",
       "\n",
       "                                                  Url  \n",
       "0                             https://kino-code.work/  \n",
       "1                              https://kino-code.work  \n",
       "2   https://kino-code.work/course-python01-course-...  \n",
       "3   https://kino-code.work/course-python02-what-py...  \n",
       "4   https://kino-code.work/course-python03-environ...  \n",
       "5   https://kino-code.work/course-python04-basic-s...  \n",
       "6     https://kino-code.work/course-python05-runtime/  \n",
       "7    https://kino-code.work/course-python06-variable/  \n",
       "8   https://kino-code.work/course-python07-data-type/  \n",
       "9        https://kino-code.work/coruse-python08-list/  \n",
       "10   https://kino-code.work/course-python09-operator/  \n",
       "11  https://kino-code.work/course-python10-conditi...  \n",
       "12  https://kino-code.work/course-python11-repetit...  \n",
       "13   https://kino-code.work/course-python12-function/  \n",
       "14      https://kino-code.work/course-python13-class/  \n",
       "15   https://kino-code.work/course-python14-practice/  \n",
       "16      https://kino-code.work/author/kino_tsurayasu/  \n",
       "17      https://kino-code.work/course-php02-what-php/  \n",
       "18  https://kino-code.work/course-php01-course-int...  \n",
       "19      https://kino-code.work/course-go02-what-go-2/  \n",
       "20        https://kino-code.work/course-go01-what-go/  \n",
       "21       https://kino-code.work/course-go15-practice/  \n",
       "22                    https://kino-code.work/2021/10/  \n",
       "23                    https://kino-code.work/2020/05/  \n",
       "24                    https://kino-code.work/2020/04/  \n",
       "25                    https://kino-code.work/2020/03/  \n",
       "26                    https://kino-code.work/2020/02/  \n",
       "27                    https://kino-code.work/2020/01/  \n",
       "28                            https://kino-code.work/  "
      ]
     },
     "execution_count": 53,
     "metadata": {},
     "output_type": "execute_result"
    }
   ],
   "source": [
    "df_title_url"
   ]
  },
  {
   "cell_type": "code",
   "execution_count": 54,
   "id": "fd5e8a37-6602-4a19-8b29-763939d1a724",
   "metadata": {},
   "outputs": [],
   "source": [
    "df_notnull = df_title_url.dropna(how=\"any\")"
   ]
  },
  {
   "cell_type": "code",
   "execution_count": 55,
   "id": "1757cd9c-1109-4183-b379-8b32d6876552",
   "metadata": {},
   "outputs": [
    {
     "data": {
      "text/html": [
       "<div>\n",
       "<style scoped>\n",
       "    .dataframe tbody tr th:only-of-type {\n",
       "        vertical-align: middle;\n",
       "    }\n",
       "\n",
       "    .dataframe tbody tr th {\n",
       "        vertical-align: top;\n",
       "    }\n",
       "\n",
       "    .dataframe thead th {\n",
       "        text-align: right;\n",
       "    }\n",
       "</style>\n",
       "<table border=\"1\" class=\"dataframe\">\n",
       "  <thead>\n",
       "    <tr style=\"text-align: right;\">\n",
       "      <th></th>\n",
       "      <th>Title</th>\n",
       "      <th>Url</th>\n",
       "    </tr>\n",
       "  </thead>\n",
       "  <tbody>\n",
       "    <tr>\n",
       "      <th>1</th>\n",
       "      <td>ホーム</td>\n",
       "      <td>https://kino-code.work</td>\n",
       "    </tr>\n",
       "    <tr>\n",
       "      <th>2</th>\n",
       "      <td>Python超入門コース#01 Pythonのコース紹介</td>\n",
       "      <td>https://kino-code.work/course-python01-course-...</td>\n",
       "    </tr>\n",
       "    <tr>\n",
       "      <th>3</th>\n",
       "      <td>Python超入門コース#02 Pythonとは？</td>\n",
       "      <td>https://kino-code.work/course-python02-what-py...</td>\n",
       "    </tr>\n",
       "    <tr>\n",
       "      <th>4</th>\n",
       "      <td>Python超入門コース#03 環境構築 for Mac</td>\n",
       "      <td>https://kino-code.work/course-python03-environ...</td>\n",
       "    </tr>\n",
       "    <tr>\n",
       "      <th>5</th>\n",
       "      <td>Python超入門コース#04 プログラムの基本構造</td>\n",
       "      <td>https://kino-code.work/course-python04-basic-s...</td>\n",
       "    </tr>\n",
       "    <tr>\n",
       "      <th>6</th>\n",
       "      <td>Python超入門コース#05 実行</td>\n",
       "      <td>https://kino-code.work/course-python05-runtime/</td>\n",
       "    </tr>\n",
       "    <tr>\n",
       "      <th>7</th>\n",
       "      <td>Python超入門コース#06 変数</td>\n",
       "      <td>https://kino-code.work/course-python06-variable/</td>\n",
       "    </tr>\n",
       "    <tr>\n",
       "      <th>8</th>\n",
       "      <td>Python超入門コース#07 データ型</td>\n",
       "      <td>https://kino-code.work/course-python07-data-type/</td>\n",
       "    </tr>\n",
       "    <tr>\n",
       "      <th>9</th>\n",
       "      <td>Python超入門コース#08 リスト</td>\n",
       "      <td>https://kino-code.work/coruse-python08-list/</td>\n",
       "    </tr>\n",
       "    <tr>\n",
       "      <th>10</th>\n",
       "      <td>Python超入門コース#09 演算子</td>\n",
       "      <td>https://kino-code.work/course-python09-operator/</td>\n",
       "    </tr>\n",
       "    <tr>\n",
       "      <th>11</th>\n",
       "      <td>Python超入門コース#10 条件分岐</td>\n",
       "      <td>https://kino-code.work/course-python10-conditi...</td>\n",
       "    </tr>\n",
       "    <tr>\n",
       "      <th>12</th>\n",
       "      <td>Python超入門コース#11 反復</td>\n",
       "      <td>https://kino-code.work/course-python11-repetit...</td>\n",
       "    </tr>\n",
       "    <tr>\n",
       "      <th>13</th>\n",
       "      <td>Python超入門コース#12 関数</td>\n",
       "      <td>https://kino-code.work/course-python12-function/</td>\n",
       "    </tr>\n",
       "    <tr>\n",
       "      <th>14</th>\n",
       "      <td>Python超入門コース#13 クラス</td>\n",
       "      <td>https://kino-code.work/course-python13-class/</td>\n",
       "    </tr>\n",
       "    <tr>\n",
       "      <th>15</th>\n",
       "      <td>Python超入門コース#14 実践</td>\n",
       "      <td>https://kino-code.work/course-python14-practice/</td>\n",
       "    </tr>\n",
       "    <tr>\n",
       "      <th>16</th>\n",
       "      <td>キノコード</td>\n",
       "      <td>https://kino-code.work/author/kino_tsurayasu/</td>\n",
       "    </tr>\n",
       "    <tr>\n",
       "      <th>17</th>\n",
       "      <td>PHP超入門コース#02 PHPとは？</td>\n",
       "      <td>https://kino-code.work/course-php02-what-php/</td>\n",
       "    </tr>\n",
       "    <tr>\n",
       "      <th>18</th>\n",
       "      <td>PHP超入門コース＃01コース紹介</td>\n",
       "      <td>https://kino-code.work/course-php01-course-int...</td>\n",
       "    </tr>\n",
       "    <tr>\n",
       "      <th>19</th>\n",
       "      <td>Go超入門コース#02 Goとは？</td>\n",
       "      <td>https://kino-code.work/course-go02-what-go-2/</td>\n",
       "    </tr>\n",
       "    <tr>\n",
       "      <th>20</th>\n",
       "      <td>Go超入門コース#01 Goのコース紹介</td>\n",
       "      <td>https://kino-code.work/course-go01-what-go/</td>\n",
       "    </tr>\n",
       "    <tr>\n",
       "      <th>21</th>\n",
       "      <td>【Go言語 超入門コース】15.実践｜すべて理解できればGoの超入門者から卒業です【プログラ...</td>\n",
       "      <td>https://kino-code.work/course-go15-practice/</td>\n",
       "    </tr>\n",
       "  </tbody>\n",
       "</table>\n",
       "</div>"
      ],
      "text/plain": [
       "                                                Title  \\\n",
       "1                                                 ホーム   \n",
       "2                        Python超入門コース#01 Pythonのコース紹介   \n",
       "3                           Python超入門コース#02 Pythonとは？   \n",
       "4                        Python超入門コース#03 環境構築 for Mac   \n",
       "5                          Python超入門コース#04 プログラムの基本構造   \n",
       "6                                  Python超入門コース#05 実行   \n",
       "7                                  Python超入門コース#06 変数   \n",
       "8                                Python超入門コース#07 データ型   \n",
       "9                                 Python超入門コース#08 リスト   \n",
       "10                                Python超入門コース#09 演算子   \n",
       "11                               Python超入門コース#10 条件分岐   \n",
       "12                                 Python超入門コース#11 反復   \n",
       "13                                 Python超入門コース#12 関数   \n",
       "14                                Python超入門コース#13 クラス   \n",
       "15                                 Python超入門コース#14 実践   \n",
       "16                                              キノコード   \n",
       "17                                PHP超入門コース#02 PHPとは？   \n",
       "18                                  PHP超入門コース＃01コース紹介   \n",
       "19                                  Go超入門コース#02 Goとは？   \n",
       "20                               Go超入門コース#01 Goのコース紹介   \n",
       "21  【Go言語 超入門コース】15.実践｜すべて理解できればGoの超入門者から卒業です【プログラ...   \n",
       "\n",
       "                                                  Url  \n",
       "1                              https://kino-code.work  \n",
       "2   https://kino-code.work/course-python01-course-...  \n",
       "3   https://kino-code.work/course-python02-what-py...  \n",
       "4   https://kino-code.work/course-python03-environ...  \n",
       "5   https://kino-code.work/course-python04-basic-s...  \n",
       "6     https://kino-code.work/course-python05-runtime/  \n",
       "7    https://kino-code.work/course-python06-variable/  \n",
       "8   https://kino-code.work/course-python07-data-type/  \n",
       "9        https://kino-code.work/coruse-python08-list/  \n",
       "10   https://kino-code.work/course-python09-operator/  \n",
       "11  https://kino-code.work/course-python10-conditi...  \n",
       "12  https://kino-code.work/course-python11-repetit...  \n",
       "13   https://kino-code.work/course-python12-function/  \n",
       "14      https://kino-code.work/course-python13-class/  \n",
       "15   https://kino-code.work/course-python14-practice/  \n",
       "16      https://kino-code.work/author/kino_tsurayasu/  \n",
       "17      https://kino-code.work/course-php02-what-php/  \n",
       "18  https://kino-code.work/course-php01-course-int...  \n",
       "19      https://kino-code.work/course-go02-what-go-2/  \n",
       "20        https://kino-code.work/course-go01-what-go/  \n",
       "21       https://kino-code.work/course-go15-practice/  "
      ]
     },
     "execution_count": 55,
     "metadata": {},
     "output_type": "execute_result"
    }
   ],
   "source": [
    "df_notnull"
   ]
  },
  {
   "cell_type": "code",
   "execution_count": 56,
   "id": "35fbc3da-6178-4cbb-8aa8-2e73ba8b9f8d",
   "metadata": {},
   "outputs": [
    {
     "data": {
      "text/plain": [
       "1     False\n",
       "2      True\n",
       "3      True\n",
       "4      True\n",
       "5      True\n",
       "6      True\n",
       "7      True\n",
       "8      True\n",
       "9      True\n",
       "10     True\n",
       "11     True\n",
       "12     True\n",
       "13     True\n",
       "14     True\n",
       "15     True\n",
       "16    False\n",
       "17    False\n",
       "18    False\n",
       "19    False\n",
       "20    False\n",
       "21    False\n",
       "Name: Title, dtype: bool"
      ]
     },
     "execution_count": 56,
     "metadata": {},
     "output_type": "execute_result"
    }
   ],
   "source": [
    "df_notnull[\"Title\"].str.contains(\"Python超入門コース\")"
   ]
  },
  {
   "cell_type": "code",
   "execution_count": 57,
   "id": "b052258d-62fc-4251-99b6-fea2e4d39a71",
   "metadata": {},
   "outputs": [
    {
     "data": {
      "text/html": [
       "<div>\n",
       "<style scoped>\n",
       "    .dataframe tbody tr th:only-of-type {\n",
       "        vertical-align: middle;\n",
       "    }\n",
       "\n",
       "    .dataframe tbody tr th {\n",
       "        vertical-align: top;\n",
       "    }\n",
       "\n",
       "    .dataframe thead th {\n",
       "        text-align: right;\n",
       "    }\n",
       "</style>\n",
       "<table border=\"1\" class=\"dataframe\">\n",
       "  <thead>\n",
       "    <tr style=\"text-align: right;\">\n",
       "      <th></th>\n",
       "      <th>Title</th>\n",
       "      <th>Url</th>\n",
       "    </tr>\n",
       "  </thead>\n",
       "  <tbody>\n",
       "    <tr>\n",
       "      <th>2</th>\n",
       "      <td>Python超入門コース#01 Pythonのコース紹介</td>\n",
       "      <td>https://kino-code.work/course-python01-course-...</td>\n",
       "    </tr>\n",
       "    <tr>\n",
       "      <th>3</th>\n",
       "      <td>Python超入門コース#02 Pythonとは？</td>\n",
       "      <td>https://kino-code.work/course-python02-what-py...</td>\n",
       "    </tr>\n",
       "    <tr>\n",
       "      <th>4</th>\n",
       "      <td>Python超入門コース#03 環境構築 for Mac</td>\n",
       "      <td>https://kino-code.work/course-python03-environ...</td>\n",
       "    </tr>\n",
       "    <tr>\n",
       "      <th>5</th>\n",
       "      <td>Python超入門コース#04 プログラムの基本構造</td>\n",
       "      <td>https://kino-code.work/course-python04-basic-s...</td>\n",
       "    </tr>\n",
       "    <tr>\n",
       "      <th>6</th>\n",
       "      <td>Python超入門コース#05 実行</td>\n",
       "      <td>https://kino-code.work/course-python05-runtime/</td>\n",
       "    </tr>\n",
       "    <tr>\n",
       "      <th>7</th>\n",
       "      <td>Python超入門コース#06 変数</td>\n",
       "      <td>https://kino-code.work/course-python06-variable/</td>\n",
       "    </tr>\n",
       "    <tr>\n",
       "      <th>8</th>\n",
       "      <td>Python超入門コース#07 データ型</td>\n",
       "      <td>https://kino-code.work/course-python07-data-type/</td>\n",
       "    </tr>\n",
       "    <tr>\n",
       "      <th>9</th>\n",
       "      <td>Python超入門コース#08 リスト</td>\n",
       "      <td>https://kino-code.work/coruse-python08-list/</td>\n",
       "    </tr>\n",
       "    <tr>\n",
       "      <th>10</th>\n",
       "      <td>Python超入門コース#09 演算子</td>\n",
       "      <td>https://kino-code.work/course-python09-operator/</td>\n",
       "    </tr>\n",
       "    <tr>\n",
       "      <th>11</th>\n",
       "      <td>Python超入門コース#10 条件分岐</td>\n",
       "      <td>https://kino-code.work/course-python10-conditi...</td>\n",
       "    </tr>\n",
       "    <tr>\n",
       "      <th>12</th>\n",
       "      <td>Python超入門コース#11 反復</td>\n",
       "      <td>https://kino-code.work/course-python11-repetit...</td>\n",
       "    </tr>\n",
       "    <tr>\n",
       "      <th>13</th>\n",
       "      <td>Python超入門コース#12 関数</td>\n",
       "      <td>https://kino-code.work/course-python12-function/</td>\n",
       "    </tr>\n",
       "    <tr>\n",
       "      <th>14</th>\n",
       "      <td>Python超入門コース#13 クラス</td>\n",
       "      <td>https://kino-code.work/course-python13-class/</td>\n",
       "    </tr>\n",
       "    <tr>\n",
       "      <th>15</th>\n",
       "      <td>Python超入門コース#14 実践</td>\n",
       "      <td>https://kino-code.work/course-python14-practice/</td>\n",
       "    </tr>\n",
       "  </tbody>\n",
       "</table>\n",
       "</div>"
      ],
      "text/plain": [
       "                           Title  \\\n",
       "2   Python超入門コース#01 Pythonのコース紹介   \n",
       "3      Python超入門コース#02 Pythonとは？   \n",
       "4   Python超入門コース#03 環境構築 for Mac   \n",
       "5     Python超入門コース#04 プログラムの基本構造   \n",
       "6             Python超入門コース#05 実行   \n",
       "7             Python超入門コース#06 変数   \n",
       "8           Python超入門コース#07 データ型   \n",
       "9            Python超入門コース#08 リスト   \n",
       "10           Python超入門コース#09 演算子   \n",
       "11          Python超入門コース#10 条件分岐   \n",
       "12            Python超入門コース#11 反復   \n",
       "13            Python超入門コース#12 関数   \n",
       "14           Python超入門コース#13 クラス   \n",
       "15            Python超入門コース#14 実践   \n",
       "\n",
       "                                                  Url  \n",
       "2   https://kino-code.work/course-python01-course-...  \n",
       "3   https://kino-code.work/course-python02-what-py...  \n",
       "4   https://kino-code.work/course-python03-environ...  \n",
       "5   https://kino-code.work/course-python04-basic-s...  \n",
       "6     https://kino-code.work/course-python05-runtime/  \n",
       "7    https://kino-code.work/course-python06-variable/  \n",
       "8   https://kino-code.work/course-python07-data-type/  \n",
       "9        https://kino-code.work/coruse-python08-list/  \n",
       "10   https://kino-code.work/course-python09-operator/  \n",
       "11  https://kino-code.work/course-python10-conditi...  \n",
       "12  https://kino-code.work/course-python11-repetit...  \n",
       "13   https://kino-code.work/course-python12-function/  \n",
       "14      https://kino-code.work/course-python13-class/  \n",
       "15   https://kino-code.work/course-python14-practice/  "
      ]
     },
     "execution_count": 57,
     "metadata": {},
     "output_type": "execute_result"
    }
   ],
   "source": [
    "df_notnull[df_notnull[\"Title\"].str.contains(\"Python超入門コース\")]"
   ]
  },
  {
   "cell_type": "code",
   "execution_count": 58,
   "id": "b6242f96-ccd6-4459-88fc-e1505b09f5fd",
   "metadata": {},
   "outputs": [],
   "source": [
    "df_contain_python = df_notnull[df_notnull[\"Title\"].str.contains(\"Python超入門コース\")]"
   ]
  },
  {
   "cell_type": "code",
   "execution_count": 63,
   "id": "be97d162-484b-4c59-85df-e40f16a63923",
   "metadata": {},
   "outputs": [],
   "source": [
    "df_contain_python.to_csv(\"../JupyterLab/output.csv\")"
   ]
  },
  {
   "cell_type": "code",
   "execution_count": null,
   "id": "cb50c192-09e4-4a4d-b5d5-168b345266d3",
   "metadata": {},
   "outputs": [],
   "source": []
  }
 ],
 "metadata": {
  "kernelspec": {
   "display_name": "Python 3 (ipykernel)",
   "language": "python",
   "name": "python3"
  },
  "language_info": {
   "codemirror_mode": {
    "name": "ipython",
    "version": 3
   },
   "file_extension": ".py",
   "mimetype": "text/x-python",
   "name": "python",
   "nbconvert_exporter": "python",
   "pygments_lexer": "ipython3",
   "version": "3.9.13"
  }
 },
 "nbformat": 4,
 "nbformat_minor": 5
}
