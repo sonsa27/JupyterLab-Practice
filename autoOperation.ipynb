{
 "cells": [
  {
   "cell_type": "code",
   "execution_count": 1,
   "id": "ee907729-96f0-4bc0-9872-76c423ff8e39",
   "metadata": {},
   "outputs": [],
   "source": [
    "from selenium import webdriver\n",
    "import time\n",
    "import pandas as pd\n",
    "from webdriver_manager.chrome import ChromeDriverManager"
   ]
  },
  {
   "cell_type": "code",
   "execution_count": 2,
   "id": "56fada2f-f4b7-4ba7-98c9-c717a75267f9",
   "metadata": {},
   "outputs": [],
   "source": [
    "USER = \"test_user\"\n",
    "PASS = \"test_pw\""
   ]
  },
  {
   "cell_type": "code",
   "execution_count": 3,
   "id": "82477d82-be65-4243-a169-c6e364986d63",
   "metadata": {},
   "outputs": [
    {
     "name": "stderr",
     "output_type": "stream",
     "text": [
      "/var/folders/gs/q8j912890dvc_47yy8j49gkh0000gn/T/ipykernel_42106/242306559.py:1: DeprecationWarning: executable_path has been deprecated, please pass in a Service object\n",
      "  browser = webdriver.Chrome(executable_path=\"/Users/songsa/Downloads/chromedriver 4\")\n"
     ]
    }
   ],
   "source": [
    "browser = webdriver.Chrome(executable_path=\"/Users/songsa/Downloads/chromedriver 4\")\n",
    "browser.implicitly_wait(3)"
   ]
  },
  {
   "cell_type": "code",
   "execution_count": 4,
   "id": "d72b95c1-94e8-4d43-85d5-345dfab6ac0a",
   "metadata": {},
   "outputs": [
    {
     "name": "stdout",
     "output_type": "stream",
     "text": [
      "ログインページアクセス完了\n"
     ]
    }
   ],
   "source": [
    "url_login = \"https://kino-code.work/mypage/membership-login\"\n",
    "browser.get(url_login)\n",
    "time.sleep(1)\n",
    "print(\"ログインページアクセス完了\")"
   ]
  },
  {
   "cell_type": "code",
   "execution_count": 5,
   "id": "69eae21b-9733-4eac-8fe8-45b199b0f3d8",
   "metadata": {},
   "outputs": [
    {
     "name": "stderr",
     "output_type": "stream",
     "text": [
      "/var/folders/gs/q8j912890dvc_47yy8j49gkh0000gn/T/ipykernel_42106/1218391954.py:1: DeprecationWarning: find_element_by_* commands are deprecated. Please use find_element() instead\n",
      "  element = browser.find_element_by_id(\"swpm_user_name\")\n",
      "/var/folders/gs/q8j912890dvc_47yy8j49gkh0000gn/T/ipykernel_42106/1218391954.py:4: DeprecationWarning: find_element_by_* commands are deprecated. Please use find_element() instead\n",
      "  element = browser.find_element_by_id(\"swpm_password\")\n",
      "/var/folders/gs/q8j912890dvc_47yy8j49gkh0000gn/T/ipykernel_42106/1218391954.py:8: DeprecationWarning: find_element_by_* commands are deprecated. Please use find_element() instead\n",
      "  login_form = browser.find_element_by_class_name(\"swpm-login-form-submit\")\n"
     ]
    },
    {
     "name": "stdout",
     "output_type": "stream",
     "text": [
      "ログインボタンが押されました\n"
     ]
    }
   ],
   "source": [
    "element = browser.find_element_by_id(\"swpm_user_name\")\n",
    "element.clear()\n",
    "element.send_keys(USER)\n",
    "element = browser.find_element_by_id(\"swpm_password\")\n",
    "element.clear()\n",
    "element.send_keys(PASS)\n",
    "\n",
    "login_form = browser.find_element_by_class_name(\"swpm-login-form-submit\")\n",
    "time.sleep(1)\n",
    "login_form.click()\n",
    "print(\"ログインボタンが押されました\")"
   ]
  },
  {
   "cell_type": "code",
   "execution_count": 9,
   "id": "3fc88af2-9b39-4592-acb8-2269998f08e6",
   "metadata": {},
   "outputs": [
    {
     "name": "stdout",
     "output_type": "stream",
     "text": [
      "https://kino-code.work/member-only/ アクセス完了\n"
     ]
    }
   ],
   "source": [
    "url=\"https://kino-code.work/member-only/\"\n",
    "time.sleep(3)\n",
    "browser.get(url)\n",
    "print(url,\"アクセス完了\")"
   ]
  },
  {
   "cell_type": "code",
   "execution_count": 10,
   "id": "dff127fa-31fa-4823-b4ca-39d817c5408c",
   "metadata": {},
   "outputs": [
    {
     "name": "stderr",
     "output_type": "stream",
     "text": [
      "/var/folders/gs/q8j912890dvc_47yy8j49gkh0000gn/T/ipykernel_42106/4273505842.py:1: DeprecationWarning: find_element_by_* commands are deprecated. Please use find_element() instead\n",
      "  frm = browser.find_element_by_xpath(\"/html/body/div/div[3]/div/div/aside[1]/form/input\")\n"
     ]
    }
   ],
   "source": [
    "frm = browser.find_element_by_xpath(\"/html/body/div/div[3]/div/div/aside[1]/form/input\")\n",
    "frm.clear()\n",
    "frm.send_keys(\"python\")"
   ]
  },
  {
   "cell_type": "code",
   "execution_count": null,
   "id": "eeef6a25-7517-4a55-bdf9-e47dd2e2a5d5",
   "metadata": {},
   "outputs": [],
   "source": []
  }
 ],
 "metadata": {
  "kernelspec": {
   "display_name": "Python 3 (ipykernel)",
   "language": "python",
   "name": "python3"
  },
  "language_info": {
   "codemirror_mode": {
    "name": "ipython",
    "version": 3
   },
   "file_extension": ".py",
   "mimetype": "text/x-python",
   "name": "python",
   "nbconvert_exporter": "python",
   "pygments_lexer": "ipython3",
   "version": "3.9.13"
  }
 },
 "nbformat": 4,
 "nbformat_minor": 5
}
